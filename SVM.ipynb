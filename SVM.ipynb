{
  "nbformat": 4,
  "nbformat_minor": 0,
  "metadata": {
    "colab": {
      "name": "SVM.ipynb",
      "version": "0.3.2",
      "provenance": [],
      "collapsed_sections": []
    },
    "kernelspec": {
      "name": "python3",
      "display_name": "Python 3"
    },
    "accelerator": "GPU"
  },
  "cells": [
    {
      "metadata": {
        "id": "Rrn3ZWOifL8K",
        "colab_type": "code",
        "colab": {}
      },
      "cell_type": "code",
      "source": [
        "import pandas as pd\n",
        "import pickle\n",
        "import numpy as np\n",
        "import librosa\n",
        "#!pip install librosa"
      ],
      "execution_count": 0,
      "outputs": []
    },
    {
      "metadata": {
        "id": "NUSePWGpYVVv",
        "colab_type": "code",
        "colab": {}
      },
      "cell_type": "code",
      "source": [
        "prosdic_features = pd.read_csv('new_data_with_prosodic.csv')"
      ],
      "execution_count": 0,
      "outputs": []
    },
    {
      "metadata": {
        "id": "PfwZs03gYnrZ",
        "colab_type": "code",
        "outputId": "9b70bd61-aa66-456c-b295-2ac774fff0f7",
        "colab": {
          "base_uri": "https://localhost:8080/",
          "height": 239
        }
      },
      "cell_type": "code",
      "source": [
        "prosdic_features.head()"
      ],
      "execution_count": 0,
      "outputs": [
        {
          "output_type": "execute_result",
          "data": {
            "text/html": [
              "<div>\n",
              "<style scoped>\n",
              "    .dataframe tbody tr th:only-of-type {\n",
              "        vertical-align: middle;\n",
              "    }\n",
              "\n",
              "    .dataframe tbody tr th {\n",
              "        vertical-align: top;\n",
              "    }\n",
              "\n",
              "    .dataframe thead th {\n",
              "        text-align: right;\n",
              "    }\n",
              "</style>\n",
              "<table border=\"1\" class=\"dataframe\">\n",
              "  <thead>\n",
              "    <tr style=\"text-align: right;\">\n",
              "      <th></th>\n",
              "      <th>Unnamed: 0</th>\n",
              "      <th>Unnamed: 0.1</th>\n",
              "      <th>emotions</th>\n",
              "      <th>gender</th>\n",
              "      <th>emotional_intensity</th>\n",
              "      <th>repetions</th>\n",
              "      <th>voice_channel</th>\n",
              "      <th>log_energy</th>\n",
              "      <th>zero_rate_cross</th>\n",
              "      <th>pitch</th>\n",
              "      <th>spec_center</th>\n",
              "      <th>spec_contrast</th>\n",
              "      <th>chroma</th>\n",
              "    </tr>\n",
              "  </thead>\n",
              "  <tbody>\n",
              "    <tr>\n",
              "      <th>0</th>\n",
              "      <td>0</td>\n",
              "      <td>0</td>\n",
              "      <td>1</td>\n",
              "      <td>1</td>\n",
              "      <td>1</td>\n",
              "      <td>1</td>\n",
              "      <td>1</td>\n",
              "      <td>1.210089</td>\n",
              "      <td>0.276547</td>\n",
              "      <td>425.633360</td>\n",
              "      <td>2561.615654</td>\n",
              "      <td>18.579795</td>\n",
              "      <td>0.588629</td>\n",
              "    </tr>\n",
              "    <tr>\n",
              "      <th>1</th>\n",
              "      <td>1</td>\n",
              "      <td>1</td>\n",
              "      <td>1</td>\n",
              "      <td>1</td>\n",
              "      <td>1</td>\n",
              "      <td>2</td>\n",
              "      <td>1</td>\n",
              "      <td>0.953821</td>\n",
              "      <td>0.232797</td>\n",
              "      <td>135.463690</td>\n",
              "      <td>2389.013861</td>\n",
              "      <td>18.979816</td>\n",
              "      <td>0.561213</td>\n",
              "    </tr>\n",
              "    <tr>\n",
              "      <th>2</th>\n",
              "      <td>2</td>\n",
              "      <td>2</td>\n",
              "      <td>1</td>\n",
              "      <td>1</td>\n",
              "      <td>1</td>\n",
              "      <td>1</td>\n",
              "      <td>1</td>\n",
              "      <td>2.360058</td>\n",
              "      <td>0.276442</td>\n",
              "      <td>263.613601</td>\n",
              "      <td>2364.081624</td>\n",
              "      <td>18.604097</td>\n",
              "      <td>0.568334</td>\n",
              "    </tr>\n",
              "    <tr>\n",
              "      <th>3</th>\n",
              "      <td>3</td>\n",
              "      <td>3</td>\n",
              "      <td>1</td>\n",
              "      <td>1</td>\n",
              "      <td>1</td>\n",
              "      <td>2</td>\n",
              "      <td>1</td>\n",
              "      <td>1.963170</td>\n",
              "      <td>0.241621</td>\n",
              "      <td>400.331243</td>\n",
              "      <td>2265.299648</td>\n",
              "      <td>19.000360</td>\n",
              "      <td>0.572616</td>\n",
              "    </tr>\n",
              "    <tr>\n",
              "      <th>4</th>\n",
              "      <td>4</td>\n",
              "      <td>4</td>\n",
              "      <td>2</td>\n",
              "      <td>1</td>\n",
              "      <td>1</td>\n",
              "      <td>1</td>\n",
              "      <td>1</td>\n",
              "      <td>0.282539</td>\n",
              "      <td>0.232923</td>\n",
              "      <td>151.828945</td>\n",
              "      <td>2361.018676</td>\n",
              "      <td>18.629941</td>\n",
              "      <td>0.535452</td>\n",
              "    </tr>\n",
              "  </tbody>\n",
              "</table>\n",
              "</div>"
            ],
            "text/plain": [
              "   Unnamed: 0  Unnamed: 0.1  emotions  gender  emotional_intensity  repetions  \\\n",
              "0           0             0         1       1                    1          1   \n",
              "1           1             1         1       1                    1          2   \n",
              "2           2             2         1       1                    1          1   \n",
              "3           3             3         1       1                    1          2   \n",
              "4           4             4         2       1                    1          1   \n",
              "\n",
              "   voice_channel  log_energy  zero_rate_cross       pitch  spec_center  \\\n",
              "0              1    1.210089         0.276547  425.633360  2561.615654   \n",
              "1              1    0.953821         0.232797  135.463690  2389.013861   \n",
              "2              1    2.360058         0.276442  263.613601  2364.081624   \n",
              "3              1    1.963170         0.241621  400.331243  2265.299648   \n",
              "4              1    0.282539         0.232923  151.828945  2361.018676   \n",
              "\n",
              "   spec_contrast    chroma  \n",
              "0      18.579795  0.588629  \n",
              "1      18.979816  0.561213  \n",
              "2      18.604097  0.568334  \n",
              "3      19.000360  0.572616  \n",
              "4      18.629941  0.535452  "
            ]
          },
          "metadata": {
            "tags": []
          },
          "execution_count": 208
        }
      ]
    },
    {
      "metadata": {
        "id": "zUmM0AbSY8RD",
        "colab_type": "code",
        "colab": {}
      },
      "cell_type": "code",
      "source": [
        "x = prosdic_features.pitch.values #returns a numpy array\n",
        "temp = (x-np.mean(x))/np.std(x)\n",
        "prosdic_features['pitch'] = temp\n",
        "\n",
        "x = prosdic_features.log_energy.values #returns a numpy array\n",
        "temp = (x-np.mean(x))/np.std(x)\n",
        "prosdic_features['log_energy'] = temp"
      ],
      "execution_count": 0,
      "outputs": []
    },
    {
      "metadata": {
        "id": "NCmPMkZoY8ej",
        "colab_type": "code",
        "outputId": "758c41ee-536d-4122-af27-c9a21ee6fab3",
        "colab": {
          "base_uri": "https://localhost:8080/",
          "height": 222
        }
      },
      "cell_type": "code",
      "source": [
        "prosdic_features = prosdic_features.drop(prosdic_features.columns[0:2],axis = 1)\n",
        "prosdic_features.head()"
      ],
      "execution_count": 0,
      "outputs": [
        {
          "output_type": "execute_result",
          "data": {
            "text/html": [
              "<div>\n",
              "<style scoped>\n",
              "    .dataframe tbody tr th:only-of-type {\n",
              "        vertical-align: middle;\n",
              "    }\n",
              "\n",
              "    .dataframe tbody tr th {\n",
              "        vertical-align: top;\n",
              "    }\n",
              "\n",
              "    .dataframe thead th {\n",
              "        text-align: right;\n",
              "    }\n",
              "</style>\n",
              "<table border=\"1\" class=\"dataframe\">\n",
              "  <thead>\n",
              "    <tr style=\"text-align: right;\">\n",
              "      <th></th>\n",
              "      <th>emotions</th>\n",
              "      <th>gender</th>\n",
              "      <th>emotional_intensity</th>\n",
              "      <th>repetions</th>\n",
              "      <th>voice_channel</th>\n",
              "      <th>log_energy</th>\n",
              "      <th>zero_rate_cross</th>\n",
              "      <th>pitch</th>\n",
              "      <th>spec_center</th>\n",
              "      <th>spec_contrast</th>\n",
              "      <th>chroma</th>\n",
              "    </tr>\n",
              "  </thead>\n",
              "  <tbody>\n",
              "    <tr>\n",
              "      <th>0</th>\n",
              "      <td>1</td>\n",
              "      <td>1</td>\n",
              "      <td>1</td>\n",
              "      <td>1</td>\n",
              "      <td>1</td>\n",
              "      <td>0.609594</td>\n",
              "      <td>0.276547</td>\n",
              "      <td>0.129385</td>\n",
              "      <td>2561.615654</td>\n",
              "      <td>18.579795</td>\n",
              "      <td>0.588629</td>\n",
              "    </tr>\n",
              "    <tr>\n",
              "      <th>1</th>\n",
              "      <td>1</td>\n",
              "      <td>1</td>\n",
              "      <td>1</td>\n",
              "      <td>2</td>\n",
              "      <td>1</td>\n",
              "      <td>0.329755</td>\n",
              "      <td>0.232797</td>\n",
              "      <td>-1.063384</td>\n",
              "      <td>2389.013861</td>\n",
              "      <td>18.979816</td>\n",
              "      <td>0.561213</td>\n",
              "    </tr>\n",
              "    <tr>\n",
              "      <th>2</th>\n",
              "      <td>1</td>\n",
              "      <td>1</td>\n",
              "      <td>1</td>\n",
              "      <td>1</td>\n",
              "      <td>1</td>\n",
              "      <td>1.865338</td>\n",
              "      <td>0.276442</td>\n",
              "      <td>-0.536612</td>\n",
              "      <td>2364.081624</td>\n",
              "      <td>18.604097</td>\n",
              "      <td>0.568334</td>\n",
              "    </tr>\n",
              "    <tr>\n",
              "      <th>3</th>\n",
              "      <td>1</td>\n",
              "      <td>1</td>\n",
              "      <td>1</td>\n",
              "      <td>2</td>\n",
              "      <td>1</td>\n",
              "      <td>1.431944</td>\n",
              "      <td>0.241621</td>\n",
              "      <td>0.025379</td>\n",
              "      <td>2265.299648</td>\n",
              "      <td>19.000360</td>\n",
              "      <td>0.572616</td>\n",
              "    </tr>\n",
              "    <tr>\n",
              "      <th>4</th>\n",
              "      <td>2</td>\n",
              "      <td>1</td>\n",
              "      <td>1</td>\n",
              "      <td>1</td>\n",
              "      <td>1</td>\n",
              "      <td>-0.403272</td>\n",
              "      <td>0.232923</td>\n",
              "      <td>-0.996113</td>\n",
              "      <td>2361.018676</td>\n",
              "      <td>18.629941</td>\n",
              "      <td>0.535452</td>\n",
              "    </tr>\n",
              "  </tbody>\n",
              "</table>\n",
              "</div>"
            ],
            "text/plain": [
              "   emotions  gender  emotional_intensity  repetions  voice_channel  \\\n",
              "0         1       1                    1          1              1   \n",
              "1         1       1                    1          2              1   \n",
              "2         1       1                    1          1              1   \n",
              "3         1       1                    1          2              1   \n",
              "4         2       1                    1          1              1   \n",
              "\n",
              "   log_energy  zero_rate_cross     pitch  spec_center  spec_contrast    chroma  \n",
              "0    0.609594         0.276547  0.129385  2561.615654      18.579795  0.588629  \n",
              "1    0.329755         0.232797 -1.063384  2389.013861      18.979816  0.561213  \n",
              "2    1.865338         0.276442 -0.536612  2364.081624      18.604097  0.568334  \n",
              "3    1.431944         0.241621  0.025379  2265.299648      19.000360  0.572616  \n",
              "4   -0.403272         0.232923 -0.996113  2361.018676      18.629941  0.535452  "
            ]
          },
          "metadata": {
            "tags": []
          },
          "execution_count": 210
        }
      ]
    },
    {
      "metadata": {
        "id": "EN153btqfX2b",
        "colab_type": "code",
        "outputId": "64325721-11a2-4118-9d2e-847a39724d61",
        "colab": {
          "base_uri": "https://localhost:8080/",
          "height": 55
        }
      },
      "cell_type": "code",
      "source": [
        "with open(\"mfcc_data\", 'rb') as f:\n",
        "    mfcc1 = pickle.load(f)\n",
        "with open(\"pitch_data\", 'rb') as f:\n",
        "    pitchnew = pickle.load( f)\n",
        "\"\"\"\n",
        "\n",
        "with open(\"spectral_center_data\", 'rb') as f:\n",
        "    spectral_center1 = pickle.load(f)\n",
        "with open(\"chroma_data\", 'rb') as f:\n",
        "    chroma1 = pickle.load(f)\n",
        "with open(\"spectral_contrast_data\", 'rb') as f:\n",
        "    spectral_contrast1 = pickle.load(f)\n",
        "\n",
        "with open(\"pitch1_data\", 'rb') as f:\n",
        "    pitch1new = pickle.load( f)\n",
        "    \n",
        "\"\"\""
      ],
      "execution_count": 0,
      "outputs": [
        {
          "output_type": "execute_result",
          "data": {
            "text/plain": [
              "'\\n\\nwith open(\"spectral_center_data\", \\'rb\\') as f:\\n    spectral_center1 = pickle.load(f)\\nwith open(\"chroma_data\", \\'rb\\') as f:\\n    chroma1 = pickle.load(f)\\nwith open(\"spectral_contrast_data\", \\'rb\\') as f:\\n    spectral_contrast1 = pickle.load(f)\\n\\nwith open(\"pitch1_data\", \\'rb\\') as f:\\n    pitch1new = pickle.load( f)\\n    \\n'"
            ]
          },
          "metadata": {
            "tags": []
          },
          "execution_count": 211
        }
      ]
    },
    {
      "metadata": {
        "id": "0YXeX4SmgAFL",
        "colab_type": "code",
        "colab": {}
      },
      "cell_type": "code",
      "source": [
        "mfcc = []\n",
        "spectral_center = []\n",
        "chroma = []\n",
        "spectral_contrast = []\n",
        "pitch = []\n",
        "\n",
        "for i in range(len(mfcc1)):\n",
        "  mfcc.append(np.array(mfcc1[i]))\n",
        "  pitch.append(np.array(pitchnew[i]))"
      ],
      "execution_count": 0,
      "outputs": []
    },
    {
      "metadata": {
        "id": "lV5xWGbVuLwe",
        "colab_type": "code",
        "colab": {}
      },
      "cell_type": "code",
      "source": [
        "from sklearn.preprocessing import StandardScaler \n",
        "for i in range(len(mfcc)):\n",
        "  mfcc[i]= StandardScaler().fit_transform(mfcc[i])\n",
        " # chroma[i]= StandardScaler().fit_transform(chroma[i])\n",
        " # spectral_contrast[i]= StandardScaler().fit_transform(spectral_contrast[i])"
      ],
      "execution_count": 0,
      "outputs": []
    },
    {
      "metadata": {
        "id": "2Cku_3gzZ5in",
        "colab_type": "code",
        "colab": {}
      },
      "cell_type": "code",
      "source": [
        ""
      ],
      "execution_count": 0,
      "outputs": []
    },
    {
      "metadata": {
        "id": "pjbdyvg0hB36",
        "colab_type": "code",
        "colab": {}
      },
      "cell_type": "code",
      "source": [
        "maxmfcc = []\n",
        "maxpitch = []\n",
        "for i in range(len(mfcc1)):\n",
        "  maxmfcc.append((mfcc[i]).shape[1])\n",
        "  #maxpitch.append(len(pitch[i]))"
      ],
      "execution_count": 0,
      "outputs": []
    },
    {
      "metadata": {
        "id": "HqgbCk53gLvp",
        "colab_type": "code",
        "outputId": "448c98d2-c879-4ca4-b657-6e366d72f438",
        "colab": {
          "base_uri": "https://localhost:8080/",
          "height": 35
        }
      },
      "cell_type": "code",
      "source": [
        "mfcc_max = np.max(maxmfcc)\n",
        "\n",
        "mfcc_max"
      ],
      "execution_count": 0,
      "outputs": [
        {
          "output_type": "execute_result",
          "data": {
            "text/plain": [
              "165"
            ]
          },
          "metadata": {
            "tags": []
          },
          "execution_count": 215
        }
      ]
    },
    {
      "metadata": {
        "id": "fDEAAtqfkyZD",
        "colab_type": "code",
        "colab": {}
      },
      "cell_type": "code",
      "source": [
        "def pad(mfcc):\n",
        "  mfcc_new = []\n",
        "  for i in range(len(mfcc)):\n",
        "    arr = []\n",
        "    for j in range(len(mfcc[i])):\n",
        "      val = np.pad(mfcc[i][j], (0, 200-len(mfcc[i][j])), 'constant')\n",
        "      arr.append(val)\n",
        "    mfcc_new.append(np.array(arr))\n",
        "  return mfcc_new"
      ],
      "execution_count": 0,
      "outputs": []
    },
    {
      "metadata": {
        "id": "57YLwLZ7p0LN",
        "colab_type": "code",
        "colab": {}
      },
      "cell_type": "code",
      "source": [
        "mfcc = pad(mfcc)\n"
      ],
      "execution_count": 0,
      "outputs": []
    },
    {
      "metadata": {
        "id": "mY0a-IsFphwQ",
        "colab_type": "code",
        "colab": {}
      },
      "cell_type": "code",
      "source": [
        ""
      ],
      "execution_count": 0,
      "outputs": []
    },
    {
      "metadata": {
        "id": "2AFNqq0book9",
        "colab_type": "code",
        "outputId": "3c450dce-6244-4775-9cee-97cfbf095901",
        "colab": {
          "base_uri": "https://localhost:8080/",
          "height": 35
        }
      },
      "cell_type": "code",
      "source": [
        "mfcc[0].shape"
      ],
      "execution_count": 0,
      "outputs": [
        {
          "output_type": "execute_result",
          "data": {
            "text/plain": [
              "(20, 200)"
            ]
          },
          "metadata": {
            "tags": []
          },
          "execution_count": 218
        }
      ]
    },
    {
      "metadata": {
        "id": "3RqYj0Ihr1vz",
        "colab_type": "code",
        "colab": {}
      },
      "cell_type": "code",
      "source": [
        "mfcc = np.array(mfcc).reshape(len(mfcc),20,200)"
      ],
      "execution_count": 0,
      "outputs": []
    },
    {
      "metadata": {
        "id": "dSo21rSpsWJn",
        "colab_type": "code",
        "outputId": "0188cb4b-73bf-4986-ff99-7d4c2c010ad5",
        "colab": {
          "base_uri": "https://localhost:8080/",
          "height": 35
        }
      },
      "cell_type": "code",
      "source": [
        "mfcc.shape"
      ],
      "execution_count": 0,
      "outputs": [
        {
          "output_type": "execute_result",
          "data": {
            "text/plain": [
              "(1440, 20, 200)"
            ]
          },
          "metadata": {
            "tags": []
          },
          "execution_count": 220
        }
      ]
    },
    {
      "metadata": {
        "id": "HqjwJ8ImsZ23",
        "colab_type": "code",
        "colab": {}
      },
      "cell_type": "code",
      "source": [
        "def append_features(mfcc_data,chroma_data):\n",
        "  final = []\n",
        "  for i in range(mfcc_data.shape[0]):\n",
        "    new = np.concatenate((mfcc_data[i,:,:],chroma_data[i,:,:]))\n",
        "    final.append(new)\n",
        "  return np.array(final)"
      ],
      "execution_count": 0,
      "outputs": []
    },
    {
      "metadata": {
        "id": "xyPj7hYIaO5c",
        "colab_type": "code",
        "colab": {}
      },
      "cell_type": "code",
      "source": [
        "def append_values(data,feature):\n",
        "  new_data = []\n",
        "  for i in range(data.shape[0]):\n",
        "    value = prosdic_features.iloc[i][feature]\n",
        "    line = np.full((1,data[i].shape[1]),value)[0]\n",
        "    line = line.reshape(1,data[i].shape[1])\n",
        "    data1 = np.concatenate((data[i],line))\n",
        "    new_data.append(data1)\n",
        "  return np.array(new_data)"
      ],
      "execution_count": 0,
      "outputs": []
    },
    {
      "metadata": {
        "id": "m-1_RH5NaseI",
        "colab_type": "code",
        "colab": {}
      },
      "cell_type": "code",
      "source": [
        "mfcc_with_pitch = append_values(mfcc,'pitch')"
      ],
      "execution_count": 0,
      "outputs": []
    },
    {
      "metadata": {
        "id": "OKnP2qgoeBJM",
        "colab_type": "code",
        "outputId": "50e03628-693f-4de8-fdb4-bc5d6701fb1f",
        "colab": {
          "base_uri": "https://localhost:8080/",
          "height": 35
        }
      },
      "cell_type": "code",
      "source": [
        "mfcc_with_pitch.shape"
      ],
      "execution_count": 0,
      "outputs": [
        {
          "output_type": "execute_result",
          "data": {
            "text/plain": [
              "(1440, 21, 200)"
            ]
          },
          "metadata": {
            "tags": []
          },
          "execution_count": 224
        }
      ]
    },
    {
      "metadata": {
        "id": "Cr3SFV2WcXsT",
        "colab_type": "code",
        "colab": {}
      },
      "cell_type": "code",
      "source": [
        "mfcc_with_pitch_logenergy = append_values(mfcc_with_pitch,'log_energy')"
      ],
      "execution_count": 0,
      "outputs": []
    },
    {
      "metadata": {
        "id": "3vf4dL4Jea_7",
        "colab_type": "code",
        "outputId": "0914592c-76c7-48f7-c790-7813e2918b76",
        "colab": {
          "base_uri": "https://localhost:8080/",
          "height": 35
        }
      },
      "cell_type": "code",
      "source": [
        "mfcc_with_pitch_logenergy.shape"
      ],
      "execution_count": 0,
      "outputs": [
        {
          "output_type": "execute_result",
          "data": {
            "text/plain": [
              "(1440, 22, 200)"
            ]
          },
          "metadata": {
            "tags": []
          },
          "execution_count": 226
        }
      ]
    },
    {
      "metadata": {
        "id": "945KvJ0bs63l",
        "colab_type": "code",
        "colab": {}
      },
      "cell_type": "code",
      "source": [
        "\n",
        "#t1 = append_features(mfcc,chroma)\n",
        "#t2 = append_features(t1,spectral_contrast)"
      ],
      "execution_count": 0,
      "outputs": []
    },
    {
      "metadata": {
        "id": "jQAtdSDss7sc",
        "colab_type": "code",
        "outputId": "f21b070a-14ca-4935-b694-33361fd5b7d6",
        "colab": {
          "base_uri": "https://localhost:8080/",
          "height": 35
        }
      },
      "cell_type": "code",
      "source": [
        "mfcc.shape"
      ],
      "execution_count": 0,
      "outputs": [
        {
          "output_type": "execute_result",
          "data": {
            "text/plain": [
              "(1440, 20, 200)"
            ]
          },
          "metadata": {
            "tags": []
          },
          "execution_count": 228
        }
      ]
    },
    {
      "metadata": {
        "id": "gILvsLTTtoAu",
        "colab_type": "code",
        "colab": {}
      },
      "cell_type": "code",
      "source": [
        "specs = np.asarray(mfcc_with_pitch_logenergy).reshape(len(mfcc_with_pitch_logenergy),22,200,1)\n",
        "#specs = np.asarray(t2).reshape(len(t2),39,165,1)\n",
        "features = np.concatenate((specs, np.zeros(np.shape(specs))), axis = 3)\n",
        "for i in range(len(features)):\n",
        "  features[i, :, :, 1] = librosa.feature.delta(features[i, :, :, 0])"
      ],
      "execution_count": 0,
      "outputs": []
    },
    {
      "metadata": {
        "id": "REyBAkj3u0zJ",
        "colab_type": "code",
        "colab": {}
      },
      "cell_type": "code",
      "source": [
        "features_speech = features"
      ],
      "execution_count": 0,
      "outputs": []
    },
    {
      "metadata": {
        "id": "Ms2j74mjwLLM",
        "colab_type": "code",
        "outputId": "3afe6ed0-ef62-4ca0-88b7-48e91b96bcaa",
        "colab": {
          "base_uri": "https://localhost:8080/",
          "height": 222
        }
      },
      "cell_type": "code",
      "source": [
        "y_data = pd.read_csv('processed_new_data.csv')\n",
        "y_data.drop([y_data.columns[0]],inplace = True,axis = 1)\n",
        "y_data.head()"
      ],
      "execution_count": 0,
      "outputs": [
        {
          "output_type": "execute_result",
          "data": {
            "text/html": [
              "<div>\n",
              "<style scoped>\n",
              "    .dataframe tbody tr th:only-of-type {\n",
              "        vertical-align: middle;\n",
              "    }\n",
              "\n",
              "    .dataframe tbody tr th {\n",
              "        vertical-align: top;\n",
              "    }\n",
              "\n",
              "    .dataframe thead th {\n",
              "        text-align: right;\n",
              "    }\n",
              "</style>\n",
              "<table border=\"1\" class=\"dataframe\">\n",
              "  <thead>\n",
              "    <tr style=\"text-align: right;\">\n",
              "      <th></th>\n",
              "      <th>emotional_intensity</th>\n",
              "      <th>repetions</th>\n",
              "      <th>neutral</th>\n",
              "      <th>calm</th>\n",
              "      <th>happy</th>\n",
              "      <th>sad</th>\n",
              "      <th>angry</th>\n",
              "      <th>fearful</th>\n",
              "      <th>disgust</th>\n",
              "      <th>surprised</th>\n",
              "      <th>male</th>\n",
              "      <th>female</th>\n",
              "    </tr>\n",
              "  </thead>\n",
              "  <tbody>\n",
              "    <tr>\n",
              "      <th>0</th>\n",
              "      <td>1</td>\n",
              "      <td>1</td>\n",
              "      <td>1</td>\n",
              "      <td>0</td>\n",
              "      <td>0</td>\n",
              "      <td>0</td>\n",
              "      <td>0</td>\n",
              "      <td>0</td>\n",
              "      <td>0</td>\n",
              "      <td>0</td>\n",
              "      <td>1</td>\n",
              "      <td>0</td>\n",
              "    </tr>\n",
              "    <tr>\n",
              "      <th>1</th>\n",
              "      <td>1</td>\n",
              "      <td>2</td>\n",
              "      <td>1</td>\n",
              "      <td>0</td>\n",
              "      <td>0</td>\n",
              "      <td>0</td>\n",
              "      <td>0</td>\n",
              "      <td>0</td>\n",
              "      <td>0</td>\n",
              "      <td>0</td>\n",
              "      <td>1</td>\n",
              "      <td>0</td>\n",
              "    </tr>\n",
              "    <tr>\n",
              "      <th>2</th>\n",
              "      <td>1</td>\n",
              "      <td>1</td>\n",
              "      <td>1</td>\n",
              "      <td>0</td>\n",
              "      <td>0</td>\n",
              "      <td>0</td>\n",
              "      <td>0</td>\n",
              "      <td>0</td>\n",
              "      <td>0</td>\n",
              "      <td>0</td>\n",
              "      <td>1</td>\n",
              "      <td>0</td>\n",
              "    </tr>\n",
              "    <tr>\n",
              "      <th>3</th>\n",
              "      <td>1</td>\n",
              "      <td>2</td>\n",
              "      <td>1</td>\n",
              "      <td>0</td>\n",
              "      <td>0</td>\n",
              "      <td>0</td>\n",
              "      <td>0</td>\n",
              "      <td>0</td>\n",
              "      <td>0</td>\n",
              "      <td>0</td>\n",
              "      <td>1</td>\n",
              "      <td>0</td>\n",
              "    </tr>\n",
              "    <tr>\n",
              "      <th>4</th>\n",
              "      <td>1</td>\n",
              "      <td>1</td>\n",
              "      <td>0</td>\n",
              "      <td>1</td>\n",
              "      <td>0</td>\n",
              "      <td>0</td>\n",
              "      <td>0</td>\n",
              "      <td>0</td>\n",
              "      <td>0</td>\n",
              "      <td>0</td>\n",
              "      <td>1</td>\n",
              "      <td>0</td>\n",
              "    </tr>\n",
              "  </tbody>\n",
              "</table>\n",
              "</div>"
            ],
            "text/plain": [
              "   emotional_intensity  repetions  neutral  calm  happy  sad  angry  fearful  \\\n",
              "0                    1          1        1     0      0    0      0        0   \n",
              "1                    1          2        1     0      0    0      0        0   \n",
              "2                    1          1        1     0      0    0      0        0   \n",
              "3                    1          2        1     0      0    0      0        0   \n",
              "4                    1          1        0     1      0    0      0        0   \n",
              "\n",
              "   disgust  surprised  male  female  \n",
              "0        0          0     1       0  \n",
              "1        0          0     1       0  \n",
              "2        0          0     1       0  \n",
              "3        0          0     1       0  \n",
              "4        0          0     1       0  "
            ]
          },
          "metadata": {
            "tags": []
          },
          "execution_count": 231
        }
      ]
    },
    {
      "metadata": {
        "id": "YGMo2wIBwjm9",
        "colab_type": "code",
        "outputId": "980e201d-fe34-4688-8f11-d45ad82ff678",
        "colab": {
          "base_uri": "https://localhost:8080/",
          "height": 202
        }
      },
      "cell_type": "code",
      "source": [
        "y = y_data.loc[:,'neutral':'surprised']\n",
        "y.head()"
      ],
      "execution_count": 0,
      "outputs": [
        {
          "output_type": "execute_result",
          "data": {
            "text/html": [
              "<div>\n",
              "<style scoped>\n",
              "    .dataframe tbody tr th:only-of-type {\n",
              "        vertical-align: middle;\n",
              "    }\n",
              "\n",
              "    .dataframe tbody tr th {\n",
              "        vertical-align: top;\n",
              "    }\n",
              "\n",
              "    .dataframe thead th {\n",
              "        text-align: right;\n",
              "    }\n",
              "</style>\n",
              "<table border=\"1\" class=\"dataframe\">\n",
              "  <thead>\n",
              "    <tr style=\"text-align: right;\">\n",
              "      <th></th>\n",
              "      <th>neutral</th>\n",
              "      <th>calm</th>\n",
              "      <th>happy</th>\n",
              "      <th>sad</th>\n",
              "      <th>angry</th>\n",
              "      <th>fearful</th>\n",
              "      <th>disgust</th>\n",
              "      <th>surprised</th>\n",
              "    </tr>\n",
              "  </thead>\n",
              "  <tbody>\n",
              "    <tr>\n",
              "      <th>0</th>\n",
              "      <td>1</td>\n",
              "      <td>0</td>\n",
              "      <td>0</td>\n",
              "      <td>0</td>\n",
              "      <td>0</td>\n",
              "      <td>0</td>\n",
              "      <td>0</td>\n",
              "      <td>0</td>\n",
              "    </tr>\n",
              "    <tr>\n",
              "      <th>1</th>\n",
              "      <td>1</td>\n",
              "      <td>0</td>\n",
              "      <td>0</td>\n",
              "      <td>0</td>\n",
              "      <td>0</td>\n",
              "      <td>0</td>\n",
              "      <td>0</td>\n",
              "      <td>0</td>\n",
              "    </tr>\n",
              "    <tr>\n",
              "      <th>2</th>\n",
              "      <td>1</td>\n",
              "      <td>0</td>\n",
              "      <td>0</td>\n",
              "      <td>0</td>\n",
              "      <td>0</td>\n",
              "      <td>0</td>\n",
              "      <td>0</td>\n",
              "      <td>0</td>\n",
              "    </tr>\n",
              "    <tr>\n",
              "      <th>3</th>\n",
              "      <td>1</td>\n",
              "      <td>0</td>\n",
              "      <td>0</td>\n",
              "      <td>0</td>\n",
              "      <td>0</td>\n",
              "      <td>0</td>\n",
              "      <td>0</td>\n",
              "      <td>0</td>\n",
              "    </tr>\n",
              "    <tr>\n",
              "      <th>4</th>\n",
              "      <td>0</td>\n",
              "      <td>1</td>\n",
              "      <td>0</td>\n",
              "      <td>0</td>\n",
              "      <td>0</td>\n",
              "      <td>0</td>\n",
              "      <td>0</td>\n",
              "      <td>0</td>\n",
              "    </tr>\n",
              "  </tbody>\n",
              "</table>\n",
              "</div>"
            ],
            "text/plain": [
              "   neutral  calm  happy  sad  angry  fearful  disgust  surprised\n",
              "0        1     0      0    0      0        0        0          0\n",
              "1        1     0      0    0      0        0        0          0\n",
              "2        1     0      0    0      0        0        0          0\n",
              "3        1     0      0    0      0        0        0          0\n",
              "4        0     1      0    0      0        0        0          0"
            ]
          },
          "metadata": {
            "tags": []
          },
          "execution_count": 232
        }
      ]
    },
    {
      "metadata": {
        "id": "MIrj53nnhsin",
        "colab_type": "code",
        "colab": {}
      },
      "cell_type": "code",
      "source": [
        "y_speech = y"
      ],
      "execution_count": 0,
      "outputs": []
    },
    {
      "metadata": {
        "id": "BTCOXMj4Ptor",
        "colab_type": "code",
        "outputId": "12a76758-2b75-423f-d787-3024aafe1148",
        "colab": {
          "base_uri": "https://localhost:8080/",
          "height": 35
        }
      },
      "cell_type": "code",
      "source": [
        "y_speech.shape"
      ],
      "execution_count": 0,
      "outputs": [
        {
          "output_type": "execute_result",
          "data": {
            "text/plain": [
              "(1440, 8)"
            ]
          },
          "metadata": {
            "tags": []
          },
          "execution_count": 234
        }
      ]
    },
    {
      "metadata": {
        "id": "6k9BAVf8BpaV",
        "colab_type": "code",
        "colab": {}
      },
      "cell_type": "code",
      "source": [
        "with open(\"mfcc_song_data\", 'rb') as f:\n",
        "    mfcc_song = pickle.load(f)\n",
        "with open(\"pitch_song_data\", 'rb') as f:\n",
        "    pitch_song = pickle.load( f)"
      ],
      "execution_count": 0,
      "outputs": []
    },
    {
      "metadata": {
        "id": "ffhL2qRUBprj",
        "colab_type": "code",
        "colab": {}
      },
      "cell_type": "code",
      "source": [
        "mfcc_songs = []\n",
        "pitch_songs = []\n",
        "for i in range(len(mfcc_song)):\n",
        "  mfcc_songs.append(np.array(mfcc_song[i]))\n",
        "  pitch_songs.append(np.array(pitch_song[i]))"
      ],
      "execution_count": 0,
      "outputs": []
    },
    {
      "metadata": {
        "id": "RGYKCQ55QPRs",
        "colab_type": "code",
        "colab": {}
      },
      "cell_type": "code",
      "source": [
        "pitch_songs= np.array(pitch_songs).ravel()\n"
      ],
      "execution_count": 0,
      "outputs": []
    },
    {
      "metadata": {
        "id": "HtzSXJszQgi2",
        "colab_type": "code",
        "outputId": "36cc800f-fa57-4453-a3b3-62c4a8fc8f33",
        "colab": {
          "base_uri": "https://localhost:8080/",
          "height": 35
        }
      },
      "cell_type": "code",
      "source": [
        "pitch_songs.shape"
      ],
      "execution_count": 0,
      "outputs": [
        {
          "output_type": "execute_result",
          "data": {
            "text/plain": [
              "(1012,)"
            ]
          },
          "metadata": {
            "tags": []
          },
          "execution_count": 238
        }
      ]
    },
    {
      "metadata": {
        "id": "wcDT_UUnBppN",
        "colab_type": "code",
        "colab": {}
      },
      "cell_type": "code",
      "source": [
        "x = pitch_songs #returns a numpy array\n",
        "temp = (x-np.mean(x))/np.std(x)\n"
      ],
      "execution_count": 0,
      "outputs": []
    },
    {
      "metadata": {
        "id": "Dady_Je8Qo9S",
        "colab_type": "code",
        "colab": {}
      },
      "cell_type": "code",
      "source": [
        "pitch_songs = temp\n"
      ],
      "execution_count": 0,
      "outputs": []
    },
    {
      "metadata": {
        "id": "5OurfvKJBpmh",
        "colab_type": "code",
        "colab": {}
      },
      "cell_type": "code",
      "source": [
        "from sklearn.preprocessing import StandardScaler \n",
        "for i in range(len(mfcc_songs)):\n",
        "  mfcc_songs[i]= StandardScaler().fit_transform(mfcc_songs[i])\n",
        "  "
      ],
      "execution_count": 0,
      "outputs": []
    },
    {
      "metadata": {
        "id": "ePlLSQOVBpjv",
        "colab_type": "code",
        "colab": {}
      },
      "cell_type": "code",
      "source": [
        "maxmfcc_songs = []\n",
        "maxpitch_songs = []\n",
        "for i in range(len(mfcc_songs)):\n",
        "  maxmfcc.append((mfcc_songs[i]).shape[1])"
      ],
      "execution_count": 0,
      "outputs": []
    },
    {
      "metadata": {
        "id": "zkUlUtAWBpgu",
        "colab_type": "code",
        "outputId": "fd1d2547-f818-4a6e-c328-e872c97a05d3",
        "colab": {
          "base_uri": "https://localhost:8080/",
          "height": 35
        }
      },
      "cell_type": "code",
      "source": [
        "mfcc_max = np.max(maxmfcc)\n",
        "mfcc_max"
      ],
      "execution_count": 0,
      "outputs": [
        {
          "output_type": "execute_result",
          "data": {
            "text/plain": [
              "200"
            ]
          },
          "metadata": {
            "tags": []
          },
          "execution_count": 243
        }
      ]
    },
    {
      "metadata": {
        "id": "z5yETFoJDmfo",
        "colab_type": "code",
        "colab": {}
      },
      "cell_type": "code",
      "source": [
        "def pad(mfcc):\n",
        "  mfcc_new = []\n",
        "  for i in range(len(mfcc)):\n",
        "    arr = []\n",
        "    for j in range(len(mfcc[i])):\n",
        "      val = np.pad(mfcc[i][j], (0, 200-len(mfcc[i][j])), 'constant')\n",
        "      arr.append(val)\n",
        "    mfcc_new.append(np.array(arr))\n",
        "  return mfcc_new"
      ],
      "execution_count": 0,
      "outputs": []
    },
    {
      "metadata": {
        "id": "WjokX-07Dmo_",
        "colab_type": "code",
        "colab": {}
      },
      "cell_type": "code",
      "source": [
        "mfcc_songs = pad(mfcc_songs)"
      ],
      "execution_count": 0,
      "outputs": []
    },
    {
      "metadata": {
        "id": "OGbv7JMADmsa",
        "colab_type": "code",
        "colab": {}
      },
      "cell_type": "code",
      "source": [
        "mfcc_songs = np.array(mfcc_songs).reshape(len(mfcc_songs),20,200)"
      ],
      "execution_count": 0,
      "outputs": []
    },
    {
      "metadata": {
        "id": "QmAFwv3-DmyK",
        "colab_type": "code",
        "outputId": "b167da75-943c-4def-dd6f-32d26193dd83",
        "colab": {
          "base_uri": "https://localhost:8080/",
          "height": 35
        }
      },
      "cell_type": "code",
      "source": [
        "mfcc_songs.shape"
      ],
      "execution_count": 0,
      "outputs": [
        {
          "output_type": "execute_result",
          "data": {
            "text/plain": [
              "(1012, 20, 200)"
            ]
          },
          "metadata": {
            "tags": []
          },
          "execution_count": 247
        }
      ]
    },
    {
      "metadata": {
        "id": "eJvJu64SD8AM",
        "colab_type": "code",
        "colab": {}
      },
      "cell_type": "code",
      "source": [
        "def append_values_songs(data,feature):\n",
        "  new_data = []\n",
        "  for i in range(data.shape[0]):\n",
        "    value = pitch_songs[i]\n",
        "    print (value)\n",
        "    line = np.full((1,data[i].shape[1]),value)[0]\n",
        "    line = line.reshape(1,data[i].shape[1])\n",
        "    data1 = np.concatenate((data[i],line))\n",
        "    new_data.append(data1)\n",
        "  return np.array(new_data)"
      ],
      "execution_count": 0,
      "outputs": []
    },
    {
      "metadata": {
        "id": "PM7Tw6wsD8Ef",
        "colab_type": "code",
        "outputId": "caa07679-7c70-431e-af8a-c42a0d1d967b",
        "colab": {
          "base_uri": "https://localhost:8080/",
          "height": 17576
        }
      },
      "cell_type": "code",
      "source": [
        "combined_songs = append_values_songs(mfcc_songs,pitch_songs)\n",
        "combined_songs.shape"
      ],
      "execution_count": 0,
      "outputs": [
        {
          "output_type": "stream",
          "text": [
            "0.38708711532312695\n",
            "-1.3367874430089115\n",
            "-1.3327934012289069\n",
            "-1.3387966924568644\n",
            "-1.342817137100298\n",
            "-1.3381966408403068\n",
            "-1.360063590802275\n",
            "-1.1108766785823565\n",
            "-1.1170823996088288\n",
            "-1.1095455313599127\n",
            "-1.1092882530871935\n",
            "-1.1047740057879085\n",
            "0.37078200508901976\n",
            "-0.48030709083654716\n",
            "0.35126237264804516\n",
            "1.1237052036690058\n",
            "0.42253139105814674\n",
            "0.3683304240457432\n",
            "0.3903127507449009\n",
            "0.4606238196347524\n",
            "-1.3477724546995025\n",
            "-1.3504282808237222\n",
            "-1.3459239304692951\n",
            "0.27794578027187766\n",
            "-1.3556342343545116\n",
            "-1.3574748223633242\n",
            "-0.15345209071443083\n",
            "-1.1558963305872691\n",
            "-1.1574673727726092\n",
            "0.3285316524128034\n",
            "0.29889525737891337\n",
            "-1.3281297595160166\n",
            "1.2295896907909294\n",
            "-1.13538354651286\n",
            "1.1898007952002594\n",
            "0.14742831796163353\n",
            "0.28884298666683433\n",
            "-1.3575145860969131\n",
            "-1.1640489760422041\n",
            "-1.3499458104436965\n",
            "-1.145002488373729\n",
            "0.3760282507695899\n",
            "0.4397005151936566\n",
            "0.44724867972513416\n",
            "1.195014123342858\n",
            "2.855958144109288\n",
            "2.854775100952704\n",
            "1.1643679153943067\n",
            "-0.5163223386189839\n",
            "-0.5288151657403303\n",
            "-0.5246124706290349\n",
            "-0.0556547323638548\n",
            "2.789007090616516\n",
            "-0.5071726547681911\n",
            "1.1614435010850024\n",
            "-0.5297312674721377\n",
            "1.1949402986766342\n",
            "1.1398514740576782\n",
            "2.9564105491173276\n",
            "-0.49771927499864477\n",
            "1.1607429011393071\n",
            "-0.5208105940336859\n",
            "2.86983748978222\n",
            "1.1702473609220485\n",
            "-0.5240396247820632\n",
            "-0.5267495451384797\n",
            "-0.5082819957962614\n",
            "2.7844912827505857\n",
            "-0.5110406580391341\n",
            "-0.5034743370663408\n",
            "-0.5043949088156072\n",
            "-0.525338197253531\n",
            "1.09010755202191\n",
            "1.189109280806586\n",
            "1.1818140534445511\n",
            "1.0810503358316488\n",
            "1.1586409928570882\n",
            "1.1232886707559613\n",
            "1.1794364764459857\n",
            "1.0611642042445457\n",
            "-0.5006346860920876\n",
            "2.883541256212296\n",
            "-0.5064413915087573\n",
            "-0.18660000988699998\n",
            "1.0851639637547958\n",
            "-0.5250033926610683\n",
            "-0.15779102347846094\n",
            "-0.4986664507171491\n",
            "1.1752686155040741\n",
            "0.3463939001601123\n",
            "0.31319474537506486\n",
            "0.35016531288858743\n",
            "1.0966053625829844\n",
            "-1.1339454137233727\n",
            "0.32567133556794514\n",
            "0.3324091970844257\n",
            "1.1620064622061113\n",
            "1.1390658096087747\n",
            "1.158761208617938\n",
            "0.35358524820137316\n",
            "0.4104847955345675\n",
            "0.4336853355318185\n",
            "1.1302407481945782\n",
            "1.0898575378853284\n",
            "1.1631849460784403\n",
            "1.1047355627361046\n",
            "0.47400985172138477\n",
            "0.12644462574081894\n",
            "0.35125196039205253\n",
            "1.2263514689420927\n",
            "-0.21203940903995153\n",
            "0.32126796816775516\n",
            "1.2370043413890328\n",
            "-0.22883560647164475\n",
            "1.2347404505745603\n",
            "-2.160812517520439\n",
            "0.29087867128144523\n",
            "1.144074924327304\n",
            "0.38293691911045685\n",
            "0.3321409865565066\n",
            "0.40366308272548457\n",
            "1.2578403422144924\n",
            "1.2295170846475845\n",
            "1.2442968656575262\n",
            "-1.3360617995635566\n",
            "-1.3345291694358306\n",
            "-1.3522730894718396\n",
            "0.42805335435394454\n",
            "-1.1581360858438983\n",
            "1.9869954787384685\n",
            "-0.24783973897469477\n",
            "-0.1196289858945252\n",
            "-0.48005811505117496\n",
            "-0.4820308955977267\n",
            "1.2077989294967155\n",
            "1.2234842722825188\n",
            "-0.5142974926848992\n",
            "1.168163068490641\n",
            "1.1397640536332594\n",
            "1.131406074329469\n",
            "-0.4754572670077928\n",
            "1.1785818750563868\n",
            "-0.5032574603185537\n",
            "-0.48251934560574716\n",
            "1.1801015713174487\n",
            "-0.464770345451369\n",
            "1.1560948641033644\n",
            "-0.49974501712579666\n",
            "1.1834458645495625\n",
            "1.176671043830319\n",
            "1.412660632217291\n",
            "1.147313487380265\n",
            "-0.49850264547149314\n",
            "-0.524176966280954\n",
            "-0.5060633185620916\n",
            "-0.49423894874142904\n",
            "1.1666753996052732\n",
            "1.1778001806168599\n",
            "1.1628480459621766\n",
            "1.1741874806699952\n",
            "1.1649678349029577\n",
            "-0.5235512013860139\n",
            "1.1867922856252369\n",
            "1.1746059294121183\n",
            "1.1805292514587504\n",
            "1.104710729261861\n",
            "1.1847288335331707\n",
            "1.1987368601179835\n",
            "-0.5000970841823751\n",
            "1.1787067647965757\n",
            "-0.499041585218858\n",
            "-0.5104344709834399\n",
            "-0.501930140533576\n",
            "1.279033774980051\n",
            "1.1055691790745568\n",
            "1.326196450007167\n",
            "-1.3388965861695723\n",
            "-1.3139630909488693\n",
            "-1.333535785280526\n",
            "-1.3393034543267464\n",
            "-1.3563222261666679\n",
            "-1.3504618216301598\n",
            "-1.347902444127516\n",
            "-1.355869986545773\n",
            "-1.354257696363316\n",
            "-1.3444154556083843\n",
            "-1.3554171062250788\n",
            "1.1349463986439834\n",
            "-1.3509073846348105\n",
            "-1.3519478058284111\n",
            "-1.1304368802801026\n",
            "-1.3417970349138155\n",
            "0.3883395678302896\n",
            "-1.3504185700388318\n",
            "0.23324197315112302\n",
            "-1.3416494428432635\n",
            "-1.3554892517215478\n",
            "0.26937438557069454\n",
            "-1.3536075431299497\n",
            "-1.3548467122796377\n",
            "-1.3516177677648813\n",
            "-1.3638867258858847\n",
            "-1.3641751882763715\n",
            "-1.3530675413116302\n",
            "0.23330025076615973\n",
            "0.1962687068921732\n",
            "0.42757985730661496\n",
            "0.2996378458320803\n",
            "1.0780943555320763\n",
            "1.0436197658464357\n",
            "0.24689199562073866\n",
            "1.0933432964783492\n",
            "-1.3160215542217846\n",
            "-1.3600447580439488\n",
            "-1.3492866631634237\n",
            "-1.357616527950579\n",
            "-1.3201152946593597\n",
            "-1.3267480162347614\n",
            "-1.3282194336925413\n",
            "1.3221177290128383\n",
            "1.1781606517423804\n",
            "1.1973663966593\n",
            "1.1638398637543128\n",
            "1.1695612424430581\n",
            "1.263648484610431\n",
            "1.1702526400786266\n",
            "1.1865658121682217\n",
            "-0.4924238872905373\n",
            "-0.4883814559790678\n",
            "1.200945620193086\n",
            "1.1372430108233036\n",
            "1.1487739841973486\n",
            "1.1571375506630914\n",
            "1.1870146595749917\n",
            "1.229244563648792\n",
            "1.1780629709292165\n",
            "1.1975759135045736\n",
            "1.2834138943904763\n",
            "1.2021073231319495\n",
            "1.2302851566504596\n",
            "-0.48869771383947935\n",
            "-0.49437028740164524\n",
            "-0.46836634791899695\n",
            "1.1846444530818652\n",
            "1.172749390625368\n",
            "1.2117655386002881\n",
            "1.171946717414881\n",
            "1.185273665158604\n",
            "1.1683063064108141\n",
            "1.1611853187472636\n",
            "1.1494440278650933\n",
            "1.189289978816494\n",
            "1.130128743654707\n",
            "1.1761641135522354\n",
            "1.1828655597731648\n",
            "1.3121290432495856\n",
            "1.1867148957021008\n",
            "-0.4932066033090317\n",
            "1.189620376646992\n",
            "1.1815170635403194\n",
            "1.1882979668809281\n",
            "1.2459411551231452\n",
            "1.2463983105596446\n",
            "1.3950572742298848\n",
            "-1.3410692731962661\n",
            "-1.3435622637281548\n",
            "-1.3316271672433735\n",
            "-0.2947452511940714\n",
            "-1.3503341021434663\n",
            "-1.3573749625539162\n",
            "-1.1408405282993144\n",
            "-1.1345218686453022\n",
            "-1.3531001380892742\n",
            "-1.3537923747727982\n",
            "-1.141697023225218\n",
            "-1.3476614081996812\n",
            "-1.3288834855031277\n",
            "-1.3096985876246603\n",
            "-2.1068416324170838\n",
            "0.3429831003563005\n",
            "0.441602995792431\n",
            "0.9406814554433475\n",
            "-0.13711227040545734\n",
            "0.34187982794958816\n",
            "-1.3579224108070411\n",
            "-1.3388965861695723\n",
            "-1.1772645275779194\n",
            "-1.3547689173962685\n",
            "-1.3576351934664672\n",
            "-1.3531001380892742\n",
            "0.36434178952665014\n",
            "-1.343626373545702\n",
            "-1.1598134266887643\n",
            "-1.3607656982496834\n",
            "-0.2843463541319493\n",
            "0.46751226652227285\n",
            "1.0005384269021136\n",
            "0.40640990526566156\n",
            "0.29994256799471086\n",
            "1.0448995921134951\n",
            "-1.3153804403999818\n",
            "-1.3563367925067105\n",
            "-1.3325034398481286\n",
            "-1.3682371872887957\n",
            "0.43391938696005394\n",
            "0.336101963690441\n",
            "-0.2141694650334783\n",
            "0.4934515242888304\n",
            "-0.4828831489850574\n",
            "-0.49249216345670166\n",
            "1.160546925518051\n",
            "-0.49798315519849745\n",
            "-0.5061833318612584\n",
            "-0.5058709465915552\n",
            "-0.5118929996613868\n",
            "-0.5159133288321782\n",
            "-0.49985616981233044\n",
            "-0.5204263976401744\n",
            "-0.5218857720516654\n",
            "-0.5126052993814502\n",
            "1.1796834852644107\n",
            "-0.5212200102415915\n",
            "-0.5295274397167202\n",
            "1.191203902038181\n",
            "1.0764988326809404\n",
            "2.912661089686898\n",
            "1.158834958934533\n",
            "-0.4963927312711036\n",
            "-0.5064003412685547\n",
            "-0.483691486804616\n",
            "-0.5145658594910447\n",
            "-0.5029488582113373\n",
            "-0.4872856131146234\n",
            "-0.510122191694193\n",
            "-0.5024543838582558\n",
            "1.3392230212155751\n",
            "-0.5251573055220737\n",
            "-2.1462418932630993\n",
            "-0.48296223205388084\n",
            "-0.4942828170707138\n",
            "1.030345438482223\n",
            "1.0761306726491595\n",
            "1.1287664158095594\n",
            "1.2895947408799158\n",
            "-0.4996168707626646\n",
            "-0.5195545327669877\n",
            "-0.5083735483949782\n",
            "-0.4590959393236385\n",
            "-0.39966092335785974\n",
            "-0.5049976942547592\n",
            "-0.5040592827603876\n",
            "-0.4634067270769627\n",
            "-0.4965254965602334\n",
            "-0.49219411152501163\n",
            "0.3598122312663482\n",
            "0.371483202037146\n",
            "0.36842747926444236\n",
            "-1.3283847629733798\n",
            "0.3871285517089688\n",
            "0.20131910794264796\n",
            "-1.3675711183851085\n",
            "-1.3447242483202029\n",
            "-1.3646828479139081\n",
            "-1.3624992522252302\n",
            "0.34078768201080417\n",
            "0.2618257185047263\n",
            "0.33433477607172063\n",
            "0.35649734124776317\n",
            "0.3833348089422021\n",
            "0.2083502581434009\n",
            "0.3351398427367238\n",
            "0.25834087147628537\n",
            "-0.20339428212658608\n",
            "-0.20249236046247313\n",
            "-1.3717639017175318\n",
            "0.3127546788251128\n",
            "-0.22292840889402615\n",
            "-0.13568903134043347\n",
            "0.3128814021268101\n",
            "-1.352449237223156\n",
            "-0.46463246691025395\n",
            "0.18105911333593422\n",
            "-0.2095284725768947\n",
            "0.29507589848864296\n",
            "-0.3049088012943608\n",
            "1.2265839214472547\n",
            "-1.3296222235810273\n",
            "0.32918707909183387\n",
            "-1.343722591316217\n",
            "-1.3328597691243058\n",
            "-1.361092068659746\n",
            "-1.3738242792976518\n",
            "-0.2714073869755579\n",
            "-1.0581908475145212\n",
            "0.3423108689880193\n",
            "-0.13361561350327109\n",
            "-0.47197438577924705\n",
            "-0.498710305830109\n",
            "-0.5002390415966399\n",
            "-0.48522571023501737\n",
            "-0.5217570979971052\n",
            "-0.4960367510520703\n",
            "-0.1336672064428904\n",
            "-0.06400733968721788\n",
            "-0.5037136839296315\n",
            "-0.5037935217285587\n",
            "-0.13132160870979404\n",
            "-0.09713777119470769\n",
            "-0.495267200753921\n",
            "-0.49724173264595456\n",
            "-0.5016404740964021\n",
            "-0.05695346185187621\n",
            "-0.06048593223024347\n",
            "-0.08282160668700554\n",
            "-0.05020226430759039\n",
            "-0.44468636798635314\n",
            "-0.514046437575772\n",
            "-0.508923454337949\n",
            "-0.15365388120295673\n",
            "-0.5197122389408999\n",
            "-0.4948165735931537\n",
            "-0.23110448441783826\n",
            "-0.2553411917010833\n",
            "-0.13365617618684517\n",
            "-0.5018783717164242\n",
            "-0.4612038949047121\n",
            "-0.5096285380165723\n",
            "-0.5507477581503349\n",
            "-0.5048672710799164\n",
            "-0.5074381434213829\n",
            "1.1820440151388187\n",
            "-0.19889482901617067\n",
            "-0.5284801291009231\n",
            "-0.2383151270125156\n",
            "-0.5089838665683031\n",
            "-0.13509819912658294\n",
            "-0.21386092401018586\n",
            "-0.1336440269453552\n",
            "-0.335774975794227\n",
            "-0.5085812274007748\n",
            "-1.3380672827691884\n",
            "-1.3370963046922173\n",
            "-1.3380672827691884\n",
            "-1.3378474380932213\n",
            "-1.3543894018850648\n",
            "-1.3537244948070195\n",
            "-1.3536400508165733\n",
            "-1.350733913548828\n",
            "-1.3561631106650254\n",
            "-1.356722002643209\n",
            "-1.3413018895425426\n",
            "-1.3365917701522776\n",
            "-1.3589953792371838\n",
            "-1.3508440189189888\n",
            "-1.358262950794272\n",
            "-1.3532058440599875\n",
            "-0.4989679473958347\n",
            "2.0258259390138194\n",
            "-1.359000867874906\n",
            "-1.3571596783875597\n",
            "-1.3431594791623418\n",
            "-1.3372704385198162\n",
            "-1.357950136812354\n",
            "-1.3389216212516666\n",
            "-1.3502389977619662\n",
            "-1.3502343509404713\n",
            "-1.3552150393608715\n",
            "-1.351554966905493\n",
            "-1.3490408791849644\n",
            "-1.3601157608647412\n",
            "-1.3553797595627008\n",
            "-1.3408869807559507\n",
            "1.784081708119698\n",
            "1.9861489765247247\n",
            "-1.3598060890617851\n",
            "-1.3593865911034793\n",
            "-1.3301621058046014\n",
            "-1.3544145526843863\n",
            "-1.3507727751838121\n",
            "-1.354761688516597\n",
            "-1.15614772765683\n",
            "-1.3108211591014776\n",
            "-1.3325607838159037\n",
            "-1.330757959412777\n",
            "1.1542479648669406\n",
            "1.152302398182107\n",
            "-0.49219411152501163\n",
            "-0.49690368084755177\n",
            "-0.029993977273800078\n",
            "1.121254481808576\n",
            "1.0934276187224556\n",
            "-0.0565889730553247\n",
            "1.1197273183497327\n",
            "-0.49423894874142904\n",
            "1.143060907040868\n",
            "1.1555216703187534\n",
            "-2.1564227192720162\n",
            "1.1591367670926118\n",
            "1.1472168561746954\n",
            "1.0691051137905416\n",
            "1.1877659571805372\n",
            "4.308144130080787\n",
            "1.079865911565195\n",
            "1.0794659562381217\n",
            "1.1965252553097816\n",
            "-0.5050241738460888\n",
            "1.191878279719223\n",
            "1.1192292521298621\n",
            "0.8391829575755094\n",
            "1.0920954453726144\n",
            "1.2273301953487783\n",
            "1.2289108429463846\n",
            "1.1273179544745475\n",
            "1.0966605883239944\n",
            "1.115362723343802\n",
            "1.0679124549721282\n",
            "1.2023115083937737\n",
            "1.207960871890937\n",
            "1.1354079744120578\n",
            "1.243569432828044\n",
            "1.0830604711757834\n",
            "1.1410295209833103\n",
            "1.1495892012387903\n",
            "1.1865116785731267\n",
            "0.4760901033067864\n",
            "1.1904518001246616\n",
            "1.1378195302049734\n",
            "1.2184361057782125\n",
            "0.3145742531694611\n",
            "0.35126237264804516\n",
            "0.32458010393634806\n",
            "0.33546413785762036\n",
            "0.9871897769435017\n",
            "0.2962343031981559\n",
            "0.35873926865011924\n",
            "0.19653086829947908\n",
            "0.33023341179436794\n",
            "0.3601686859577253\n",
            "0.3098984249314728\n",
            "0.206730592971923\n",
            "0.2900260248341038\n",
            "1.1636778873251152\n",
            "-1.352263969763525\n",
            "1.1344916124376576\n",
            "1.1308305193404493\n",
            "0.2496440172830871\n",
            "0.17435898827901267\n",
            "1.1684068519437798\n",
            "-1.3553791998041813\n",
            "-1.3459239304692951\n",
            "-1.3538498611674223\n",
            "0.32330893558025353\n",
            "0.3137343907059473\n",
            "0.34236828307747924\n",
            "0.31871110740862707\n",
            "0.18987673431775232\n",
            "0.3314397544875256\n",
            "0.2822735130699012\n",
            "0.263317217465866\n",
            "0.41907980562360947\n",
            "0.300460897474864\n",
            "0.30727374230529186\n",
            "0.29507589848864296\n",
            "0.4325699015001067\n",
            "1.0767710409328117\n",
            "-1.347824334636274\n",
            "0.3134624919731406\n",
            "0.3551190968301372\n",
            "0.4370864486462689\n",
            "-1.3199198370950809\n",
            "0.32269744372640596\n",
            "0.43150811223299457\n",
            "-0.49630152601802086\n",
            "-0.5005887572313141\n",
            "-0.2904348851491219\n",
            "-0.49401928363438097\n",
            "-0.4911419124442367\n",
            "-0.4858431602691554\n",
            "-0.49620910816669184\n",
            "-0.501450412713496\n",
            "-0.5001131778902635\n",
            "-0.5078855390906528\n",
            "-0.48981213840533583\n",
            "-0.49013208191359775\n",
            "1.2930461751642646\n",
            "1.071080891649745\n",
            "-0.04853029555006773\n",
            "-0.1320789140749071\n",
            "0.04655784231667063\n",
            "1.3349802854150337\n",
            "1.159319764291918\n",
            "-0.06484802776027104\n",
            "-0.4986429760897026\n",
            "-0.5006125596718827\n",
            "-0.5055971038243278\n",
            "-0.5115378798928698\n",
            "1.1536972873311202\n",
            "-0.1203203735618685\n",
            "-0.10961447358569908\n",
            "-0.253887271675126\n",
            "0.9382722843053892\n",
            "1.1663448092770936\n",
            "2.798867477698178\n",
            "1.124890689057472\n",
            "1.276035081045886\n",
            "1.1663448092770936\n",
            "1.0548125592489757\n",
            "1.0788657956334937\n",
            "-0.2531385850801609\n",
            "-0.534997704991745\n",
            "-0.22454414886943888\n",
            "-0.49881374596528616\n",
            "-0.05301070620903766\n",
            "-0.05957908771767926\n",
            "2.7858901690336806\n",
            "-0.3720575307243652\n",
            "-1.3367125502364081\n",
            "-1.336990284944282\n",
            "-1.3472302267271479\n",
            "-1.3354673650584794\n",
            "-1.1352396913027194\n",
            "-1.1423792662544854\n",
            "-1.1445636926173635\n",
            "-1.1448750012812716\n",
            "-1.1405926412908038\n",
            "-1.3359566138806118\n",
            "-1.1451913478909037\n",
            "-1.1330985113074854\n",
            "-1.1307248054100234\n",
            "1.2056039800341354\n",
            "1.1206011205019888\n",
            "-1.123516559172492\n",
            "-1.1433578917948466\n",
            "1.1402921913663755\n",
            "1.2044384277334073\n",
            "-0.027222226288742782\n",
            "-1.3527833200656103\n",
            "-1.3430616905447437\n",
            "-1.3390457165819927\n",
            "-1.3435622637281548\n",
            "-1.1453313762987722\n",
            "-1.361296835104697\n",
            "-0.1889851610811375\n",
            "-1.3559827683801007\n",
            "-1.3293247242887454\n",
            "-1.3585942635137696\n",
            "1.116211073685687\n",
            "-0.12153284898085624\n",
            "0.4431691921338179\n",
            "1.1962795616283053\n",
            "-1.3200031405828307\n",
            "1.1114676159382815\n",
            "-1.3489119445891677\n",
            "-1.3571119051666412\n",
            "-1.350337084447398\n",
            "-1.35292270293687\n",
            "0.3400963223943576\n",
            "0.26421772331081983\n",
            "1.1571722171303933\n",
            "1.1521530195962704\n",
            "-0.4971047884016604\n",
            "-0.4995576025716881\n",
            "-0.47359204009348077\n",
            "-0.5122170877740255\n",
            "-0.4921395012074542\n",
            "-0.48638527148016203\n",
            "-0.4607595492490854\n",
            "-0.4821797927563915\n",
            "-0.485481644926298\n",
            "-0.4774854477115362\n",
            "-0.467743256082316\n",
            "-0.4971441970151898\n",
            "-0.47433655524892826\n",
            "-0.4610595516874953\n",
            "-0.49656342477439447\n",
            "-0.5033446743217888\n",
            "-0.482678288968571\n",
            "-0.4715550745668674\n",
            "-0.49881374596528616\n",
            "-0.49423894874142904\n",
            "-0.5164076786502068\n",
            "-0.5043410057070618\n",
            "-0.511535594983054\n",
            "-0.5075589922401579\n",
            "-0.5168458064201615\n",
            "-0.4934131389868754\n",
            "-0.5409443075992633\n",
            "-0.5363439488875205\n",
            "-0.49401928363438097\n",
            "-0.5246768270867364\n",
            "-0.5137277044251807\n",
            "-0.5235819148205805\n",
            "1.1647727995912707\n",
            "-0.498902972965427\n",
            "1.135286483042142\n",
            "-0.4862180913700043\n",
            "-0.4569594088879869\n",
            "-0.5266837735181601\n",
            "-0.47674829783103767\n",
            "-0.48508766417542054\n",
            "-0.5107564756597877\n",
            "-0.5064866061691805\n",
            "-0.47423863216701284\n",
            "-0.48508766417542054\n",
            "-1.335703743984243\n",
            "-1.336914270228389\n",
            "0.34887746601049213\n",
            "-1.3365596455110815\n",
            "-1.1137374688420678\n",
            "-1.3378642506162812\n",
            "-1.3415940179786132\n",
            "-1.1351863083964113\n",
            "-1.3255449091610827\n",
            "-1.334750626653745\n",
            "-1.3256379578383077\n",
            "-1.3309415019799489\n",
            "-1.3402956454576045\n",
            "0.3503109893905346\n",
            "0.33275520939382197\n",
            "0.3165874044656011\n",
            "0.4454003423041236\n",
            "0.33219810562674995\n",
            "0.3801804503240468\n",
            "0.40506129978803224\n",
            "-1.33825945314195\n",
            "-1.3329776638625666\n",
            "-1.3454689541360636\n",
            "-1.3269837477852593\n",
            "0.3280886446763476\n",
            "-1.3271803026775562\n",
            "-1.3581065304507394\n",
            "0.3146787358663254\n",
            "0.47170291938393066\n",
            "0.31205983975691587\n",
            "-1.3574455292685255\n",
            "0.33027420218679676\n",
            "0.4790121871821544\n",
            "0.4498151686093068\n",
            "0.4403023393755966\n",
            "0.6448070675736185\n",
            "-1.3196025190197114\n",
            "-1.3558038606944072\n",
            "-1.3193769491153478\n",
            "-1.3386975124425133\n",
            "0.2933381135677565\n",
            "0.32497509144996756\n",
            "0.4065311108103881\n",
            "0.2974578436553554\n",
            "0.22693209654030266\n",
            "-1.33750288456314\n",
            "-1.3332266018033645\n",
            "-0.30668162997785914\n",
            "-1.3493576908261053\n",
            "-1.3530675413116302\n",
            "-1.3466881540281102\n",
            "-0.05747651289616863\n",
            "0.17863575234603066\n",
            "0.21927077368222228\n",
            "1.1197900904771079\n",
            "-0.03414345612137136\n",
            "-0.5138177804797616\n",
            "0.24499826957338824\n",
            "-0.21176778601686205\n",
            "1.1591933962282757\n",
            "3.2501058920435635\n",
            "0.3184056178530341\n",
            "-0.09216328229778442\n",
            "1.3463879231733273\n",
            "-1.3525570052012554\n",
            "-1.3417945487397054\n",
            "-0.2033971693116457\n",
            "-0.2390561464303115\n",
            "-0.4691469232638744\n",
            "-0.496013500011208\n",
            "0.20762047882203308\n",
            "-0.20695577005116367\n",
            "0.35977160413652004\n",
            "1.0759584539350364\n",
            "0.2979899651755786\n",
            "0.3236392580703489\n",
            "0.48193795600141454\n",
            "1.137619021266072\n",
            "1.2952540173942344\n",
            "1.1206355447956042\n",
            "0.2615974738761542\n",
            "-0.49432865014778327\n",
            "-0.49706081062700513\n",
            "-0.1804614378731881\n",
            "0.42138703102448993\n",
            "-0.10864948288317584\n",
            "-0.20311465741695\n",
            "1.2548210489728118\n",
            "-0.517915052731219\n",
            "1.1709342337155981\n",
            "-0.5164335526897094\n",
            "1.1574275085963328\n",
            "-0.5129681031510792\n",
            "1.1397462353738765\n",
            "1.141343169169181\n",
            "1.1631747198985747\n",
            "-0.506933602946015\n",
            "1.173100389965114\n",
            "-0.4968017104103693\n",
            "-0.5055889113556399\n",
            "1.3446645061522713\n",
            "1.1580115529657111\n",
            "1.0778629918590585\n",
            "1.1671050697893455\n",
            "1.3929237799551917\n",
            "1.1973126430481185\n",
            "1.328297094502239\n",
            "1.1828655597731648\n",
            "-0.47859848952007433\n",
            "-0.49760981340703986\n",
            "-0.5032237497302922\n",
            "-0.5145438097332992\n",
            "-0.5023602619307312\n",
            "-0.4463270412901847\n",
            "1.1522772069418235\n",
            "-0.5099988629047522\n",
            "1.3368063730942248\n",
            "1.1307710976532772\n",
            "1.1502873250676502\n",
            "1.1492549796352531\n",
            "1.3289686515585186\n",
            "1.2832718609454201\n",
            "1.3406585282269863\n",
            "1.2685504973547925\n",
            "-0.468855626894616\n",
            "1.1832598132855408\n",
            "-0.2609741217517148\n",
            "-0.245047962075374\n",
            "2.445672557640141\n",
            "1.0876486594559902\n",
            "1.2173243445818918\n",
            "0.2281112218438009\n",
            "-1.3365877466860367\n",
            "0.3540158244234249\n",
            "0.34739618998315036\n",
            "0.3534428103700118\n",
            "-1.3191408767601194\n",
            "0.3591774769868769\n",
            "0.37169704351424965\n",
            "-1.3251759760544901\n",
            "0.36631374865413646\n",
            "-1.3275372662380223\n",
            "0.349347458392679\n",
            "-1.3275372662380223\n",
            "0.366970447405736\n",
            "0.4119253319966166\n",
            "0.3760567905899937\n",
            "0.3700098453466862\n",
            "0.4030150669123246\n",
            "0.3847152605181796\n",
            "1.2210774278460264\n",
            "0.39293610419311054\n",
            "0.3553813421216419\n",
            "-0.5029181458958691\n",
            "-1.1683736207406081\n",
            "0.36776948731041115\n",
            "-0.4567791149595595\n",
            "-0.46082189883277624\n",
            "-0.46297551890342725\n",
            "-0.14271228976348474\n",
            "0.353902691485903\n",
            "0.3512607881687765\n",
            "0.3496686353919644\n",
            "0.44568395920285014\n",
            "0.33576677890609097\n",
            "1.1987408811227185\n",
            "0.3823818812086846\n",
            "0.3952375863208805\n",
            "0.38431843324206\n",
            "0.4113859895724714\n",
            "0.37950047253270164\n",
            "0.4070935114116335\n",
            "-0.512517588834321\n",
            "0.3502006529828295\n",
            "0.3523914875527585\n",
            "0.3546855816928623\n",
            "-0.49758124010381805\n",
            "-0.49423894874142904\n",
            "1.230311161664307\n",
            "1.1613451302954634\n",
            "1.1668091140168717\n",
            "-0.5228063438009318\n",
            "-0.48001775727987445\n",
            "-0.026956633567296783\n",
            "-0.4750672876952626\n",
            "1.1610785272221784\n",
            "-0.06681174603355329\n",
            "-0.051868222587184536\n",
            "-0.5122761135108733\n",
            "-0.47875376725546803\n",
            "-0.0651732163495647\n",
            "-0.507313913374769\n",
            "-0.49946412812037966\n",
            "-0.04693875978843254\n",
            "-0.04310399478375961\n",
            "-0.05889978273993762\n",
            "-0.5032237497302922\n",
            "-0.5016525014215109\n",
            "-0.16205508964105383\n",
            "-0.20117754463835513\n",
            "-0.45989760446497213\n",
            "-0.19846315407384552\n",
            "-0.1394267044298805\n",
            "1.2458558424708785\n",
            "1.1501936476122814\n",
            "1.0795258303001058\n",
            "1.2225266666214816\n",
            "1.1773569280870961\n",
            "1.1441022215193464\n",
            "1.1502873250676502\n",
            "1.1166738723614626\n",
            "1.0810503358316488\n",
            "1.151319670500048\n",
            "-0.5037774309724671\n",
            "-0.1555881930296526\n",
            "-0.15972586785961584\n",
            "-0.19857728512478573\n",
            "1.8884143092318009\n",
            "-0.12156224764596282\n",
            "-0.15872668321226974\n",
            "0.3413987754423005\n",
            "0.37243861683004775\n",
            "-1.3407929708451698\n",
            "0.3378921454181779\n",
            "0.3773857035512146\n",
            "-1.3437622412773673\n",
            "0.3591774769868769\n",
            "0.37536279533477035\n",
            "-1.3352091181360737\n",
            "-1.3370953033525166\n",
            "-1.3207301140606467\n",
            "-1.1282110287511922\n",
            "0.3475274553967303\n",
            "0.32617605255691773\n",
            "1.1870146595749917\n",
            "0.36202954338371146\n",
            "1.1888608694466933\n",
            "1.1752773797282068\n",
            "0.39587029340974655\n",
            "1.2489898651864861\n",
            "0.3610164720407966\n",
            "0.3300768384355743\n",
            "-1.1682727048169759\n",
            "-1.3372704385198162\n",
            "-1.3294090496916424\n",
            "-1.3341344832539492\n",
            "-1.1595884356666115\n",
            "-1.3338300549044788\n",
            "0.32651026047619475\n",
            "-1.3322282508642345\n",
            "-1.1694133949200527\n",
            "-1.143733327805633\n",
            "0.44708720518468126\n",
            "0.3704921648378508\n",
            "0.3873840505259621\n",
            "0.32474210094227507\n",
            "-1.3320723646089003\n",
            "-1.331618166913458\n",
            "-1.3586522955790257\n",
            "-1.34798862133409\n",
            "-1.3435232827275254\n",
            "-1.3457065019393726\n",
            "-0.1982643113185124\n",
            "-0.07464903498347261\n",
            "1.2058157529008482\n",
            "1.180796238115128\n",
            "1.1736043583372606\n",
            "1.17571427253765\n",
            "1.186232916923788\n",
            "1.172918982890547\n",
            "-0.05445799986013557\n",
            "-0.05789479709345029\n",
            "1.1982358447442487\n",
            "1.199190341957267\n",
            "1.1934485957715566\n",
            "1.1868908339581667\n",
            "1.1591310544883424\n",
            "1.2088171084795514\n",
            "1.147313487380265\n",
            "1.0515442523742633\n",
            "1.189912149870664\n",
            "1.1725233921444964\n",
            "2.8228804258090596\n",
            "1.1637078156888165\n",
            "1.1541472949252152\n",
            "1.1549456249220333\n",
            "1.1898007952002594\n",
            "-0.5066547110670238\n",
            "-0.4944348661190606\n",
            "1.1276024314648692\n",
            "-0.4818201925677587\n",
            "-0.5144413038924182\n",
            "1.1591933962282757\n",
            "1.1362359607825403\n",
            "1.1754948738517217\n",
            "-0.16915009077127313\n",
            "1.1842343392854966\n",
            "1.1050364637534986\n",
            "1.1283834488762337\n",
            "2.822897218408782\n",
            "-0.16414741382296\n",
            "1.21242152933388\n",
            "-0.5175887769416102\n",
            "-0.2263237136212354\n",
            "1.262017539730026\n",
            "-0.3977079427929735\n",
            "-0.33441317232958095\n",
            "-0.5055971038243278\n"
          ],
          "name": "stdout"
        },
        {
          "output_type": "execute_result",
          "data": {
            "text/plain": [
              "(1012, 21, 200)"
            ]
          },
          "metadata": {
            "tags": []
          },
          "execution_count": 249
        }
      ]
    },
    {
      "metadata": {
        "id": "36KwFQv8D8H0",
        "colab_type": "code",
        "outputId": "b10836d3-2156-4604-c806-047a6960c41c",
        "colab": {
          "base_uri": "https://localhost:8080/",
          "height": 35
        }
      },
      "cell_type": "code",
      "source": [
        "combined_songs.shape"
      ],
      "execution_count": 0,
      "outputs": [
        {
          "output_type": "execute_result",
          "data": {
            "text/plain": [
              "(1012, 21, 200)"
            ]
          },
          "metadata": {
            "tags": []
          },
          "execution_count": 250
        }
      ]
    },
    {
      "metadata": {
        "id": "91CqVf-jGMIW",
        "colab_type": "code",
        "colab": {}
      },
      "cell_type": "code",
      "source": [
        "prosdic_features_songs = pd.read_csv('song_new_data_with_prosodic.csv')"
      ],
      "execution_count": 0,
      "outputs": []
    },
    {
      "metadata": {
        "id": "4zZNdF04GMVo",
        "colab_type": "code",
        "outputId": "3a5195cb-d2da-4f06-eaa5-b4f8b610c390",
        "colab": {
          "base_uri": "https://localhost:8080/",
          "height": 239
        }
      },
      "cell_type": "code",
      "source": [
        "prosdic_features_songs.head()"
      ],
      "execution_count": 0,
      "outputs": [
        {
          "output_type": "execute_result",
          "data": {
            "text/html": [
              "<div>\n",
              "<style scoped>\n",
              "    .dataframe tbody tr th:only-of-type {\n",
              "        vertical-align: middle;\n",
              "    }\n",
              "\n",
              "    .dataframe tbody tr th {\n",
              "        vertical-align: top;\n",
              "    }\n",
              "\n",
              "    .dataframe thead th {\n",
              "        text-align: right;\n",
              "    }\n",
              "</style>\n",
              "<table border=\"1\" class=\"dataframe\">\n",
              "  <thead>\n",
              "    <tr style=\"text-align: right;\">\n",
              "      <th></th>\n",
              "      <th>Unnamed: 0</th>\n",
              "      <th>Unnamed: 0.1</th>\n",
              "      <th>emotional_intensity</th>\n",
              "      <th>repetions</th>\n",
              "      <th>neutral</th>\n",
              "      <th>calm</th>\n",
              "      <th>happy</th>\n",
              "      <th>sad</th>\n",
              "      <th>angry</th>\n",
              "      <th>fearful</th>\n",
              "      <th>male</th>\n",
              "      <th>female</th>\n",
              "      <th>log_energy</th>\n",
              "      <th>zero_rate_cross</th>\n",
              "      <th>pitch</th>\n",
              "    </tr>\n",
              "  </thead>\n",
              "  <tbody>\n",
              "    <tr>\n",
              "      <th>0</th>\n",
              "      <td>0</td>\n",
              "      <td>0</td>\n",
              "      <td>1</td>\n",
              "      <td>1</td>\n",
              "      <td>1</td>\n",
              "      <td>0</td>\n",
              "      <td>0</td>\n",
              "      <td>0</td>\n",
              "      <td>0</td>\n",
              "      <td>0</td>\n",
              "      <td>1</td>\n",
              "      <td>0</td>\n",
              "      <td>1.435604</td>\n",
              "      <td>0.275862</td>\n",
              "      <td>349.147735</td>\n",
              "    </tr>\n",
              "    <tr>\n",
              "      <th>1</th>\n",
              "      <td>1</td>\n",
              "      <td>1</td>\n",
              "      <td>1</td>\n",
              "      <td>2</td>\n",
              "      <td>1</td>\n",
              "      <td>0</td>\n",
              "      <td>0</td>\n",
              "      <td>0</td>\n",
              "      <td>0</td>\n",
              "      <td>0</td>\n",
              "      <td>1</td>\n",
              "      <td>0</td>\n",
              "      <td>0.984460</td>\n",
              "      <td>0.251336</td>\n",
              "      <td>356.027898</td>\n",
              "    </tr>\n",
              "    <tr>\n",
              "      <th>2</th>\n",
              "      <td>2</td>\n",
              "      <td>2</td>\n",
              "      <td>1</td>\n",
              "      <td>1</td>\n",
              "      <td>1</td>\n",
              "      <td>0</td>\n",
              "      <td>0</td>\n",
              "      <td>0</td>\n",
              "      <td>0</td>\n",
              "      <td>0</td>\n",
              "      <td>1</td>\n",
              "      <td>0</td>\n",
              "      <td>1.236308</td>\n",
              "      <td>0.235192</td>\n",
              "      <td>350.963671</td>\n",
              "    </tr>\n",
              "    <tr>\n",
              "      <th>3</th>\n",
              "      <td>3</td>\n",
              "      <td>3</td>\n",
              "      <td>1</td>\n",
              "      <td>2</td>\n",
              "      <td>1</td>\n",
              "      <td>0</td>\n",
              "      <td>0</td>\n",
              "      <td>0</td>\n",
              "      <td>0</td>\n",
              "      <td>0</td>\n",
              "      <td>1</td>\n",
              "      <td>0</td>\n",
              "      <td>1.133245</td>\n",
              "      <td>0.278376</td>\n",
              "      <td>356.090107</td>\n",
              "    </tr>\n",
              "    <tr>\n",
              "      <th>4</th>\n",
              "      <td>4</td>\n",
              "      <td>4</td>\n",
              "      <td>1</td>\n",
              "      <td>1</td>\n",
              "      <td>0</td>\n",
              "      <td>1</td>\n",
              "      <td>0</td>\n",
              "      <td>0</td>\n",
              "      <td>0</td>\n",
              "      <td>0</td>\n",
              "      <td>1</td>\n",
              "      <td>0</td>\n",
              "      <td>0.671422</td>\n",
              "      <td>0.299620</td>\n",
              "      <td>345.419743</td>\n",
              "    </tr>\n",
              "  </tbody>\n",
              "</table>\n",
              "</div>"
            ],
            "text/plain": [
              "   Unnamed: 0  Unnamed: 0.1  emotional_intensity  repetions  neutral  calm  \\\n",
              "0           0             0                    1          1        1     0   \n",
              "1           1             1                    1          2        1     0   \n",
              "2           2             2                    1          1        1     0   \n",
              "3           3             3                    1          2        1     0   \n",
              "4           4             4                    1          1        0     1   \n",
              "\n",
              "   happy  sad  angry  fearful  male  female  log_energy  zero_rate_cross  \\\n",
              "0      0    0      0        0     1       0    1.435604         0.275862   \n",
              "1      0    0      0        0     1       0    0.984460         0.251336   \n",
              "2      0    0      0        0     1       0    1.236308         0.235192   \n",
              "3      0    0      0        0     1       0    1.133245         0.278376   \n",
              "4      0    0      0        0     1       0    0.671422         0.299620   \n",
              "\n",
              "        pitch  \n",
              "0  349.147735  \n",
              "1  356.027898  \n",
              "2  350.963671  \n",
              "3  356.090107  \n",
              "4  345.419743  "
            ]
          },
          "metadata": {
            "tags": []
          },
          "execution_count": 252
        }
      ]
    },
    {
      "metadata": {
        "id": "J2tN37NZJqZe",
        "colab_type": "code",
        "outputId": "55705771-75f3-4611-d3ba-593f245b0d8b",
        "colab": {
          "base_uri": "https://localhost:8080/",
          "height": 222
        }
      },
      "cell_type": "code",
      "source": [
        "prosdic_features_songs = prosdic_features_songs.drop(['Unnamed: 0','Unnamed: 0.1'],axis=1)\n",
        "prosdic_features_songs.head()"
      ],
      "execution_count": 0,
      "outputs": [
        {
          "output_type": "execute_result",
          "data": {
            "text/html": [
              "<div>\n",
              "<style scoped>\n",
              "    .dataframe tbody tr th:only-of-type {\n",
              "        vertical-align: middle;\n",
              "    }\n",
              "\n",
              "    .dataframe tbody tr th {\n",
              "        vertical-align: top;\n",
              "    }\n",
              "\n",
              "    .dataframe thead th {\n",
              "        text-align: right;\n",
              "    }\n",
              "</style>\n",
              "<table border=\"1\" class=\"dataframe\">\n",
              "  <thead>\n",
              "    <tr style=\"text-align: right;\">\n",
              "      <th></th>\n",
              "      <th>emotional_intensity</th>\n",
              "      <th>repetions</th>\n",
              "      <th>neutral</th>\n",
              "      <th>calm</th>\n",
              "      <th>happy</th>\n",
              "      <th>sad</th>\n",
              "      <th>angry</th>\n",
              "      <th>fearful</th>\n",
              "      <th>male</th>\n",
              "      <th>female</th>\n",
              "      <th>log_energy</th>\n",
              "      <th>zero_rate_cross</th>\n",
              "      <th>pitch</th>\n",
              "    </tr>\n",
              "  </thead>\n",
              "  <tbody>\n",
              "    <tr>\n",
              "      <th>0</th>\n",
              "      <td>1</td>\n",
              "      <td>1</td>\n",
              "      <td>1</td>\n",
              "      <td>0</td>\n",
              "      <td>0</td>\n",
              "      <td>0</td>\n",
              "      <td>0</td>\n",
              "      <td>0</td>\n",
              "      <td>1</td>\n",
              "      <td>0</td>\n",
              "      <td>1.435604</td>\n",
              "      <td>0.275862</td>\n",
              "      <td>349.147735</td>\n",
              "    </tr>\n",
              "    <tr>\n",
              "      <th>1</th>\n",
              "      <td>1</td>\n",
              "      <td>2</td>\n",
              "      <td>1</td>\n",
              "      <td>0</td>\n",
              "      <td>0</td>\n",
              "      <td>0</td>\n",
              "      <td>0</td>\n",
              "      <td>0</td>\n",
              "      <td>1</td>\n",
              "      <td>0</td>\n",
              "      <td>0.984460</td>\n",
              "      <td>0.251336</td>\n",
              "      <td>356.027898</td>\n",
              "    </tr>\n",
              "    <tr>\n",
              "      <th>2</th>\n",
              "      <td>1</td>\n",
              "      <td>1</td>\n",
              "      <td>1</td>\n",
              "      <td>0</td>\n",
              "      <td>0</td>\n",
              "      <td>0</td>\n",
              "      <td>0</td>\n",
              "      <td>0</td>\n",
              "      <td>1</td>\n",
              "      <td>0</td>\n",
              "      <td>1.236308</td>\n",
              "      <td>0.235192</td>\n",
              "      <td>350.963671</td>\n",
              "    </tr>\n",
              "    <tr>\n",
              "      <th>3</th>\n",
              "      <td>1</td>\n",
              "      <td>2</td>\n",
              "      <td>1</td>\n",
              "      <td>0</td>\n",
              "      <td>0</td>\n",
              "      <td>0</td>\n",
              "      <td>0</td>\n",
              "      <td>0</td>\n",
              "      <td>1</td>\n",
              "      <td>0</td>\n",
              "      <td>1.133245</td>\n",
              "      <td>0.278376</td>\n",
              "      <td>356.090107</td>\n",
              "    </tr>\n",
              "    <tr>\n",
              "      <th>4</th>\n",
              "      <td>1</td>\n",
              "      <td>1</td>\n",
              "      <td>0</td>\n",
              "      <td>1</td>\n",
              "      <td>0</td>\n",
              "      <td>0</td>\n",
              "      <td>0</td>\n",
              "      <td>0</td>\n",
              "      <td>1</td>\n",
              "      <td>0</td>\n",
              "      <td>0.671422</td>\n",
              "      <td>0.299620</td>\n",
              "      <td>345.419743</td>\n",
              "    </tr>\n",
              "  </tbody>\n",
              "</table>\n",
              "</div>"
            ],
            "text/plain": [
              "   emotional_intensity  repetions  neutral  calm  happy  sad  angry  fearful  \\\n",
              "0                    1          1        1     0      0    0      0        0   \n",
              "1                    1          2        1     0      0    0      0        0   \n",
              "2                    1          1        1     0      0    0      0        0   \n",
              "3                    1          2        1     0      0    0      0        0   \n",
              "4                    1          1        0     1      0    0      0        0   \n",
              "\n",
              "   male  female  log_energy  zero_rate_cross       pitch  \n",
              "0     1       0    1.435604         0.275862  349.147735  \n",
              "1     1       0    0.984460         0.251336  356.027898  \n",
              "2     1       0    1.236308         0.235192  350.963671  \n",
              "3     1       0    1.133245         0.278376  356.090107  \n",
              "4     1       0    0.671422         0.299620  345.419743  "
            ]
          },
          "metadata": {
            "tags": []
          },
          "execution_count": 253
        }
      ]
    },
    {
      "metadata": {
        "id": "QEq7IC18RICA",
        "colab_type": "code",
        "outputId": "b504ecbb-a26e-481f-db1a-db97ecb218ac",
        "colab": {
          "base_uri": "https://localhost:8080/",
          "height": 69
        }
      },
      "cell_type": "code",
      "source": [
        "y_speech.columns"
      ],
      "execution_count": 0,
      "outputs": [
        {
          "output_type": "execute_result",
          "data": {
            "text/plain": [
              "Index(['neutral', 'calm', 'happy', 'sad', 'angry', 'fearful', 'disgust',\n",
              "       'surprised'],\n",
              "      dtype='object')"
            ]
          },
          "metadata": {
            "tags": []
          },
          "execution_count": 254
        }
      ]
    },
    {
      "metadata": {
        "id": "EtMm5khmK_7o",
        "colab_type": "code",
        "outputId": "6b40bd8b-7499-4971-ee35-fcc78924b866",
        "colab": {
          "base_uri": "https://localhost:8080/",
          "height": 69
        }
      },
      "cell_type": "code",
      "source": [
        "y_songs = prosdic_features_songs.drop(['emotional_intensity','repetions','male','female','log_energy','zero_rate_cross','pitch'],axis=1)\n",
        "\n",
        "y_songs['disgust'] = 0\n",
        "y_songs['surprised'] = 0\n",
        "y_songs.columns"
      ],
      "execution_count": 0,
      "outputs": [
        {
          "output_type": "execute_result",
          "data": {
            "text/plain": [
              "Index(['neutral', 'calm', 'happy', 'sad', 'angry', 'fearful', 'disgust',\n",
              "       'surprised'],\n",
              "      dtype='object')"
            ]
          },
          "metadata": {
            "tags": []
          },
          "execution_count": 255
        }
      ]
    },
    {
      "metadata": {
        "id": "7hDc0IjmhgL5",
        "colab_type": "code",
        "colab": {}
      },
      "cell_type": "code",
      "source": [
        "def append_values_songs_energy(data,feature):\n",
        "  new_data = []\n",
        "  for i in range(data.shape[0]):\n",
        "    value = prosdic_features_songs.iloc[i][feature]\n",
        "    line = np.full((1,data[i].shape[1]),value)[0]\n",
        "    line = line.reshape(1,data[i].shape[1])\n",
        "    data1 = np.concatenate((data[i],line))\n",
        "    new_data.append(data1)\n",
        "  return np.array(new_data)"
      ],
      "execution_count": 0,
      "outputs": []
    },
    {
      "metadata": {
        "id": "6aif336Ihusp",
        "colab_type": "code",
        "outputId": "c28c6e27-553a-4ff7-ac34-d4b5a23f0ee9",
        "colab": {
          "base_uri": "https://localhost:8080/",
          "height": 35
        }
      },
      "cell_type": "code",
      "source": [
        "combined_songs = append_values_songs_energy(combined_songs,'log_energy')\n",
        "combined_songs.shape"
      ],
      "execution_count": 0,
      "outputs": [
        {
          "output_type": "execute_result",
          "data": {
            "text/plain": [
              "(1012, 22, 200)"
            ]
          },
          "metadata": {
            "tags": []
          },
          "execution_count": 257
        }
      ]
    },
    {
      "metadata": {
        "id": "x06Hs3AsLRDz",
        "colab_type": "code",
        "outputId": "d18442da-a3ca-4ed5-c6f7-ac91d46c1559",
        "colab": {
          "base_uri": "https://localhost:8080/",
          "height": 35
        }
      },
      "cell_type": "code",
      "source": [
        "features_songs = combined_songs\n",
        "features_songs.shape"
      ],
      "execution_count": 0,
      "outputs": [
        {
          "output_type": "execute_result",
          "data": {
            "text/plain": [
              "(1012, 22, 200)"
            ]
          },
          "metadata": {
            "tags": []
          },
          "execution_count": 258
        }
      ]
    },
    {
      "metadata": {
        "id": "L-ymPCpKLwur",
        "colab_type": "code",
        "colab": {}
      },
      "cell_type": "code",
      "source": [
        "\n",
        "specs = np.asarray(features_songs).reshape(len(features_songs),22,200,1)\n",
        "#specs = np.asarray(features_songs).reshape(len(features_songs),21,200,1)\n",
        "features = np.concatenate((specs, np.zeros(np.shape(specs))), axis = 3)\n",
        "for i in range(len(features)):\n",
        "  features[i, :, :, 1] = librosa.feature.delta(features[i, :, :, 0])"
      ],
      "execution_count": 0,
      "outputs": []
    },
    {
      "metadata": {
        "id": "9T8-jRaBSASZ",
        "colab_type": "code",
        "outputId": "1075d612-efd8-40ea-f8a8-4993decf1f5d",
        "colab": {
          "base_uri": "https://localhost:8080/",
          "height": 35
        }
      },
      "cell_type": "code",
      "source": [
        "features_songs = features\n",
        "features_songs.shape"
      ],
      "execution_count": 0,
      "outputs": [
        {
          "output_type": "execute_result",
          "data": {
            "text/plain": [
              "(1012, 22, 200, 2)"
            ]
          },
          "metadata": {
            "tags": []
          },
          "execution_count": 260
        }
      ]
    },
    {
      "metadata": {
        "id": "WbEQlMrKofHf",
        "colab_type": "code",
        "outputId": "0f38d8fc-cff1-461b-8dc0-da9a19e90d87",
        "colab": {
          "base_uri": "https://localhost:8080/",
          "height": 35
        }
      },
      "cell_type": "code",
      "source": [
        "features_speech.shape"
      ],
      "execution_count": 0,
      "outputs": [
        {
          "output_type": "execute_result",
          "data": {
            "text/plain": [
              "(1440, 22, 200, 2)"
            ]
          },
          "metadata": {
            "tags": []
          },
          "execution_count": 261
        }
      ]
    },
    {
      "metadata": {
        "id": "tFM6nS_pofEC",
        "colab_type": "code",
        "outputId": "408b593d-a54a-4f78-9b76-de4306cf761e",
        "colab": {
          "base_uri": "https://localhost:8080/",
          "height": 35
        }
      },
      "cell_type": "code",
      "source": [
        "features_combined = []\n",
        "features_combined = np.append(features_speech,features_songs,axis=0)\n",
        "features_combined.shape"
      ],
      "execution_count": 0,
      "outputs": [
        {
          "output_type": "execute_result",
          "data": {
            "text/plain": [
              "(2452, 22, 200, 2)"
            ]
          },
          "metadata": {
            "tags": []
          },
          "execution_count": 262
        }
      ]
    },
    {
      "metadata": {
        "id": "U07VA_pMofAR",
        "colab_type": "code",
        "outputId": "33a2e548-7823-4af6-828c-98fc6d368e45",
        "colab": {
          "base_uri": "https://localhost:8080/",
          "height": 35
        }
      },
      "cell_type": "code",
      "source": [
        "y_speech.shape"
      ],
      "execution_count": 0,
      "outputs": [
        {
          "output_type": "execute_result",
          "data": {
            "text/plain": [
              "(1440, 8)"
            ]
          },
          "metadata": {
            "tags": []
          },
          "execution_count": 263
        }
      ]
    },
    {
      "metadata": {
        "id": "YJ9hPSKcoe6h",
        "colab_type": "code",
        "outputId": "900dd6b4-56a8-4312-ed90-c078c07538c9",
        "colab": {
          "base_uri": "https://localhost:8080/",
          "height": 35
        }
      },
      "cell_type": "code",
      "source": [
        "y_combined = np.append(y_speech,y_songs,axis=0)\n",
        "y_combined.shape"
      ],
      "execution_count": 0,
      "outputs": [
        {
          "output_type": "execute_result",
          "data": {
            "text/plain": [
              "(2452, 8)"
            ]
          },
          "metadata": {
            "tags": []
          },
          "execution_count": 264
        }
      ]
    },
    {
      "metadata": {
        "id": "mV1r7a_pSO8b",
        "colab_type": "code",
        "colab": {}
      },
      "cell_type": "code",
      "source": [
        "features = features_combined\n",
        "y = y_combined"
      ],
      "execution_count": 0,
      "outputs": []
    },
    {
      "metadata": {
        "id": "njM-MZmYkKel",
        "colab_type": "code",
        "outputId": "b81595fb-13c3-4804-a635-136b2d374cfa",
        "colab": {
          "base_uri": "https://localhost:8080/",
          "height": 35
        }
      },
      "cell_type": "code",
      "source": [
        "features.shape\n",
        "y.shape"
      ],
      "execution_count": 0,
      "outputs": [
        {
          "output_type": "execute_result",
          "data": {
            "text/plain": [
              "(2452, 8)"
            ]
          },
          "metadata": {
            "tags": []
          },
          "execution_count": 266
        }
      ]
    },
    {
      "metadata": {
        "id": "lWz3d_5HxXfJ",
        "colab_type": "code",
        "colab": {}
      },
      "cell_type": "code",
      "source": [
        "features = features.reshape(features.shape[0],features.shape[1]*features.shape[2]*features.shape[3])"
      ],
      "execution_count": 0,
      "outputs": []
    },
    {
      "metadata": {
        "id": "OD3JF2DLxshf",
        "colab_type": "code",
        "colab": {}
      },
      "cell_type": "code",
      "source": [
        "features_df = pd.DataFrame(features)"
      ],
      "execution_count": 0,
      "outputs": []
    },
    {
      "metadata": {
        "id": "tfKXcJhKygmc",
        "colab_type": "code",
        "colab": {}
      },
      "cell_type": "code",
      "source": [
        ""
      ],
      "execution_count": 0,
      "outputs": []
    },
    {
      "metadata": {
        "id": "2v3wmukbylWs",
        "colab_type": "code",
        "outputId": "32104fa2-2e5a-44fe-a51a-a4b4cb5871ae",
        "colab": {
          "base_uri": "https://localhost:8080/",
          "height": 35
        }
      },
      "cell_type": "code",
      "source": [
        "features_df[0:1440].shape"
      ],
      "execution_count": 0,
      "outputs": [
        {
          "output_type": "execute_result",
          "data": {
            "text/plain": [
              "(1440, 8800)"
            ]
          },
          "metadata": {
            "tags": []
          },
          "execution_count": 289
        }
      ]
    },
    {
      "metadata": {
        "id": "qkCnotL-zJlV",
        "colab_type": "code",
        "outputId": "4cb73af3-8d11-4e2f-ab95-f8013e50dc81",
        "colab": {
          "base_uri": "https://localhost:8080/",
          "height": 35
        }
      },
      "cell_type": "code",
      "source": [
        "X_train.shape\n",
        "y_train[0]"
      ],
      "execution_count": 0,
      "outputs": [
        {
          "output_type": "execute_result",
          "data": {
            "text/plain": [
              "3"
            ]
          },
          "metadata": {
            "tags": []
          },
          "execution_count": 270
        }
      ]
    },
    {
      "metadata": {
        "id": "RyeUez4-107K",
        "colab_type": "code",
        "colab": {}
      },
      "cell_type": "code",
      "source": [
        "label_spe = pd.read_csv('labels.csv')\n",
        "label_spe = label_spe['emotions']\n",
        "label_songs = pd.read_csv('labels_songs.csv')\n",
        "label_songs = label_songs['emotions']"
      ],
      "execution_count": 0,
      "outputs": []
    },
    {
      "metadata": {
        "id": "N26Ci2c51-I4",
        "colab_type": "code",
        "outputId": "30966e0a-1ce3-4c10-d421-2eca610a6a07",
        "colab": {
          "base_uri": "https://localhost:8080/",
          "height": 35
        }
      },
      "cell_type": "code",
      "source": [
        "y_final = np.append(label_spe,label_songs)\n",
        "y_final.shape"
      ],
      "execution_count": 0,
      "outputs": [
        {
          "output_type": "execute_result",
          "data": {
            "text/plain": [
              "(2452,)"
            ]
          },
          "metadata": {
            "tags": []
          },
          "execution_count": 272
        }
      ]
    },
    {
      "metadata": {
        "id": "Jslb3PJk2hp5",
        "colab_type": "code",
        "outputId": "0c5adb14-ea33-48c9-c19a-523d04c44f1e",
        "colab": {
          "base_uri": "https://localhost:8080/",
          "height": 35
        }
      },
      "cell_type": "code",
      "source": [
        "features_df.shape"
      ],
      "execution_count": 0,
      "outputs": [
        {
          "output_type": "execute_result",
          "data": {
            "text/plain": [
              "(2452, 8800)"
            ]
          },
          "metadata": {
            "tags": []
          },
          "execution_count": 273
        }
      ]
    },
    {
      "metadata": {
        "id": "B4ImLegZ2ul5",
        "colab_type": "code",
        "outputId": "05f6fa1e-c7d5-44c2-ab60-453f6a2bc4e8",
        "colab": {
          "base_uri": "https://localhost:8080/",
          "height": 35
        }
      },
      "cell_type": "code",
      "source": [
        "label_songs.shape"
      ],
      "execution_count": 0,
      "outputs": [
        {
          "output_type": "execute_result",
          "data": {
            "text/plain": [
              "(1012,)"
            ]
          },
          "metadata": {
            "tags": []
          },
          "execution_count": 274
        }
      ]
    },
    {
      "metadata": {
        "id": "uMiwmUpoww_P",
        "colab_type": "code",
        "colab": {}
      },
      "cell_type": "code",
      "source": [
        "\n",
        "from sklearn.model_selection import train_test_split\n",
        "X_train, X_test, y_train, y_test = train_test_split(features_df[1440:], label_songs, test_size=0.1, \\\n",
        "                                                    shuffle = True)\n"
      ],
      "execution_count": 0,
      "outputs": []
    },
    {
      "metadata": {
        "id": "8Zj4aBdSww75",
        "colab_type": "code",
        "outputId": "5118be60-7c6f-4eca-f890-1c2c2352f37a",
        "colab": {
          "base_uri": "https://localhost:8080/",
          "height": 87
        }
      },
      "cell_type": "code",
      "source": [
        "from sklearn.svm import SVC\n",
        "clf = SVC(gamma=0.001,  kernel='rbf', decision_function_shape='ovo',verbose = True)\n",
        "clf.fit(X_train, y_train)"
      ],
      "execution_count": 0,
      "outputs": [
        {
          "output_type": "stream",
          "text": [
            "[LibSVM]"
          ],
          "name": "stdout"
        },
        {
          "output_type": "execute_result",
          "data": {
            "text/plain": [
              "SVC(C=1.0, cache_size=200, class_weight=None, coef0=0.0,\n",
              "  decision_function_shape='ovo', degree=3, gamma=0.001, kernel='rbf',\n",
              "  max_iter=-1, probability=False, random_state=None, shrinking=True,\n",
              "  tol=0.001, verbose=True)"
            ]
          },
          "metadata": {
            "tags": []
          },
          "execution_count": 350
        }
      ]
    },
    {
      "metadata": {
        "id": "N5rSc8S0xGiI",
        "colab_type": "code",
        "colab": {}
      },
      "cell_type": "code",
      "source": [
        "from sklearn.metrics import accuracy_score"
      ],
      "execution_count": 0,
      "outputs": []
    },
    {
      "metadata": {
        "id": "UmfAIp2B4mG7",
        "colab_type": "code",
        "colab": {}
      },
      "cell_type": "code",
      "source": [
        "pred = clf.predict(X_train)"
      ],
      "execution_count": 0,
      "outputs": []
    },
    {
      "metadata": {
        "id": "q-1bXr2yww5Q",
        "colab_type": "code",
        "outputId": "407b08e6-87b8-42c3-a6cf-50418cdd7ace",
        "colab": {
          "base_uri": "https://localhost:8080/",
          "height": 35
        }
      },
      "cell_type": "code",
      "source": [
        "accuracy_score(y_train, pred)"
      ],
      "execution_count": 0,
      "outputs": [
        {
          "output_type": "execute_result",
          "data": {
            "text/plain": [
              "0.5527472527472528"
            ]
          },
          "metadata": {
            "tags": []
          },
          "execution_count": 353
        }
      ]
    },
    {
      "metadata": {
        "id": "KZGOCqa54vQq",
        "colab_type": "code",
        "outputId": "b109da2f-319f-4ac0-9111-01ed605e4de0",
        "colab": {
          "base_uri": "https://localhost:8080/",
          "height": 35
        }
      },
      "cell_type": "code",
      "source": [
        "pred = clf.predict(X_test)\n",
        "accuracy_score(y_test, pred)"
      ],
      "execution_count": 0,
      "outputs": [
        {
          "output_type": "execute_result",
          "data": {
            "text/plain": [
              "0.45098039215686275"
            ]
          },
          "metadata": {
            "tags": []
          },
          "execution_count": 354
        }
      ]
    },
    {
      "metadata": {
        "id": "y72MSi4557lD",
        "colab_type": "code",
        "colab": {}
      },
      "cell_type": "code",
      "source": [
        "print(__doc__)\n",
        "\n",
        "import numpy as np\n",
        "import matplotlib.pyplot as plt\n",
        "from sklearn.naive_bayes import GaussianNB\n",
        "from sklearn.svm import SVC\n",
        "from sklearn.datasets import load_digits\n",
        "from sklearn.model_selection import learning_curve\n",
        "from sklearn.model_selection import ShuffleSplit\n",
        "\n",
        "\n",
        "def plot_learning_curve(estimator, title, X, y, ylim=None, cv=None,\n",
        "                        n_jobs=None, train_sizes=np.linspace(.1, 1.0, 5)):\n",
        "    \"\"\"\n",
        "    Generate a simple plot of the test and training learning curve.\n",
        "\n",
        "    Parameters\n",
        "    ----------\n",
        "    estimator : object type that implements the \"fit\" and \"predict\" methods\n",
        "        An object of that type which is cloned for each validation.\n",
        "\n",
        "    title : string\n",
        "        Title for the chart.\n",
        "\n",
        "    X : array-like, shape (n_samples, n_features)\n",
        "        Training vector, where n_samples is the number of samples and\n",
        "        n_features is the number of features.\n",
        "\n",
        "    y : array-like, shape (n_samples) or (n_samples, n_features), optional\n",
        "        Target relative to X for classification or regression;\n",
        "        None for unsupervised learning.\n",
        "\n",
        "    ylim : tuple, shape (ymin, ymax), optional\n",
        "        Defines minimum and maximum yvalues plotted.\n",
        "\n",
        "    cv : int, cross-validation generator or an iterable, optional\n",
        "        Determines the cross-validation splitting strategy.\n",
        "        Possible inputs for cv are:\n",
        "          - None, to use the default 3-fold cross-validation,\n",
        "          - integer, to specify the number of folds.\n",
        "          - :term:`CV splitter`,\n",
        "          - An iterable yielding (train, test) splits as arrays of indices.\n",
        "\n",
        "        For integer/None inputs, if ``y`` is binary or multiclass,\n",
        "        :class:`StratifiedKFold` used. If the estimator is not a classifier\n",
        "        or if ``y`` is neither binary nor multiclass, :class:`KFold` is used.\n",
        "\n",
        "        Refer :ref:`User Guide <cross_validation>` for the various\n",
        "        cross-validators that can be used here.\n",
        "\n",
        "    n_jobs : int or None, optional (default=None)\n",
        "        Number of jobs to run in parallel.\n",
        "        ``None`` means 1 unless in a :obj:`joblib.parallel_backend` context.\n",
        "        ``-1`` means using all processors. See :term:`Glossary <n_jobs>`\n",
        "        for more details.\n",
        "\n",
        "    train_sizes : array-like, shape (n_ticks,), dtype float or int\n",
        "        Relative or absolute numbers of training examples that will be used to\n",
        "        generate the learning curve. If the dtype is float, it is regarded as a\n",
        "        fraction of the maximum size of the training set (that is determined\n",
        "        by the selected validation method), i.e. it has to be within (0, 1].\n",
        "        Otherwise it is interpreted as absolute sizes of the training sets.\n",
        "        Note that for classification the number of samples usually have to\n",
        "        be big enough to contain at least one sample from each class.\n",
        "        (default: np.linspace(0.1, 1.0, 5))\n",
        "    \"\"\"\n",
        "    plt.figure()\n",
        "    plt.title(title)\n",
        "    if ylim is not None:\n",
        "        plt.ylim(*ylim)\n",
        "    plt.xlabel(\"Training examples\")\n",
        "    plt.ylabel(\"Score\")\n",
        "    train_sizes, train_scores, test_scores = learning_curve(\n",
        "        estimator, X, y, cv=cv, n_jobs=n_jobs, train_sizes=train_sizes)\n",
        "    train_scores_mean = np.mean(train_scores, axis=1)\n",
        "    train_scores_std = np.std(train_scores, axis=1)\n",
        "    test_scores_mean = np.mean(test_scores, axis=1)\n",
        "    test_scores_std = np.std(test_scores, axis=1)\n",
        "    plt.grid()\n",
        "\n",
        "    plt.fill_between(train_sizes, train_scores_mean - train_scores_std,\n",
        "                     train_scores_mean + train_scores_std, alpha=0.1,\n",
        "                     color=\"r\")\n",
        "    plt.fill_between(train_sizes, test_scores_mean - test_scores_std,\n",
        "                     test_scores_mean + test_scores_std, alpha=0.1, color=\"g\")\n",
        "    plt.plot(train_sizes, train_scores_mean, 'o-', color=\"r\",\n",
        "             label=\"Training score\")\n",
        "    plt.plot(train_sizes, test_scores_mean, 'o-', color=\"g\",\n",
        "             label=\"Cross-validation score\")\n",
        "\n",
        "    plt.legend(loc=\"best\")\n",
        "    return plt\n",
        "\n",
        "\n",
        "#digits = load_digits()\n",
        "X, y = X_train,y_train\n",
        "\n",
        "\n",
        "title = \"Learning Curves (Naive Bayes)\"\n",
        "# Cross validation with 100 iterations to get smoother mean test and train\n",
        "# score curves, each time with 20% data randomly selected as a validation set.\n",
        "cv = ShuffleSplit(n_splits=100, test_size=0.1, random_state=0)\n",
        "\n",
        "estimator = GaussianNB()\n",
        "plot_learning_curve(estimator, title, X, y, ylim=(0.7, 1.01), cv=cv, n_jobs=4)\n",
        "\n",
        "title = \"Learning Curves (SVM, RBF kernel, $\\gamma=0.001$)\"\n",
        "# SVC is more expensive so we do a lower number of CV iterations:\n",
        "cv = ShuffleSplit(n_splits=10, test_size=0.2, random_state=0)\n",
        "estimator = SVC(gamma=0.001)\n",
        "plot_learning_curve(estimator, title, X, y, (0.7, 1.01), cv=cv, n_jobs=4)\n",
        "\n",
        "plt.show()"
      ],
      "execution_count": 0,
      "outputs": []
    }
  ]
}